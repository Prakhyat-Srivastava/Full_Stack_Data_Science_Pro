{
 "cells": [
  {
   "cell_type": "markdown",
   "id": "0dae1197-dc07-43c6-8198-25165d690ab2",
   "metadata": {},
   "source": [
    "# String Based Assignment Problem\n"
   ]
  },
  {
   "cell_type": "markdown",
   "id": "523e082f-181a-47b7-9a1b-dfec07e01543",
   "metadata": {},
   "source": [
    "#### 1. Write a program to reverse a string."
   ]
  },
  {
   "cell_type": "code",
   "execution_count": 1,
   "id": "e1e2c6b4-7857-41d8-96dd-e0c64af01139",
   "metadata": {},
   "outputs": [
    {
     "name": "stdout",
     "output_type": "stream",
     "text": [
      "!dlroW ,olleH\n"
     ]
    }
   ],
   "source": [
    "def reverse_string(s):\n",
    "    return s[::-1]\n",
    "\n",
    "input_string = \"Hello, World!\"\n",
    "reversed_string = reverse_string(input_string)\n",
    "print(reversed_string)\n"
   ]
  },
  {
   "cell_type": "markdown",
   "id": "712d7bdc-f8c0-43fe-8d67-f76732db7a1b",
   "metadata": {},
   "source": [
    "#### 2. Check if a string is a palindrome."
   ]
  },
  {
   "cell_type": "code",
   "execution_count": 2,
   "id": "9a4492cd-76f8-4642-855e-35d3e0f3af67",
   "metadata": {},
   "outputs": [
    {
     "name": "stdout",
     "output_type": "stream",
     "text": [
      "Palindrome\n"
     ]
    }
   ],
   "source": [
    "def is_palindrome(s):\n",
    "    return s == s[::-1]\n",
    "\n",
    "input_string = \"radar\"\n",
    "if is_palindrome(input_string):\n",
    "    print(\"Palindrome\")\n",
    "else:\n",
    "    print(\"Not a palindrome\")\n"
   ]
  },
  {
   "cell_type": "markdown",
   "id": "755547c9-587e-4774-bf58-989a88e32766",
   "metadata": {},
   "source": [
    "#### 3. Convert a string to uppercase."
   ]
  },
  {
   "cell_type": "code",
   "execution_count": 3,
   "id": "57eb95b3-1755-4eab-a189-459bf690c78b",
   "metadata": {},
   "outputs": [
    {
     "name": "stdout",
     "output_type": "stream",
     "text": [
      "HELLO, WORLD!\n"
     ]
    }
   ],
   "source": [
    "input_string = \"Hello, World!\"\n",
    "uppercase_string = input_string.upper()\n",
    "print(uppercase_string)\n"
   ]
  },
  {
   "cell_type": "markdown",
   "id": "78418674-17be-4b91-8fb4-41a54f29a66e",
   "metadata": {},
   "source": [
    "#### 4. Convert a string to lowercase."
   ]
  },
  {
   "cell_type": "code",
   "execution_count": 4,
   "id": "c77d3650-5a4b-4eee-9917-fa38930b61cc",
   "metadata": {},
   "outputs": [
    {
     "name": "stdout",
     "output_type": "stream",
     "text": [
      "hello, world!\n"
     ]
    }
   ],
   "source": [
    "input_string = \"Hello, World!\"\n",
    "lowercase_string = input_string.lower()\n",
    "print(lowercase_string)\n"
   ]
  },
  {
   "cell_type": "markdown",
   "id": "3c73da1e-fab2-46ce-8586-2cad4c257759",
   "metadata": {},
   "source": [
    "#### 5. Count the number of vowels in a string.\n"
   ]
  },
  {
   "cell_type": "code",
   "execution_count": 5,
   "id": "4b69d9e9-fdec-46e8-be9f-cb252c381798",
   "metadata": {},
   "outputs": [
    {
     "name": "stdout",
     "output_type": "stream",
     "text": [
      "Number of vowels: 3\n"
     ]
    }
   ],
   "source": [
    "def count_vowels(s):\n",
    "    vowels = \"aeiouAEIOU\"\n",
    "    count = 0\n",
    "    for char in s:\n",
    "        if char in vowels:\n",
    "            count += 1\n",
    "    return count\n",
    "\n",
    "input_string = \"Hello, World!\"\n",
    "vowel_count = count_vowels(input_string)\n",
    "print(\"Number of vowels:\", vowel_count)\n"
   ]
  },
  {
   "cell_type": "markdown",
   "id": "6ef40cd2-4905-479b-8957-1a60d6562f05",
   "metadata": {},
   "source": [
    "#### 6. Count the number of consonants in a string."
   ]
  },
  {
   "cell_type": "code",
   "execution_count": 6,
   "id": "09943fa6-adbf-4b2d-acb8-1d0ec294abb9",
   "metadata": {},
   "outputs": [
    {
     "name": "stdout",
     "output_type": "stream",
     "text": [
      "Number of consonants: 7\n"
     ]
    }
   ],
   "source": [
    "def count_consonants(s):\n",
    "    consonants = \"bcdfghjklmnpqrstvwxyzBCDFGHJKLMNPQRSTVWXYZ\"\n",
    "    count = 0\n",
    "    for char in s:\n",
    "        if char in consonants:\n",
    "            count += 1\n",
    "    return count\n",
    "\n",
    "input_string = \"Hello, World!\"\n",
    "consonant_count = count_consonants(input_string)\n",
    "print(\"Number of consonants:\", consonant_count)\n"
   ]
  },
  {
   "cell_type": "markdown",
   "id": "0abf61f9-1fdf-43d3-9ac3-22e6a2343cc0",
   "metadata": {},
   "source": [
    "#### 7. Remove all whitespaces from a string."
   ]
  },
  {
   "cell_type": "code",
   "execution_count": 7,
   "id": "f86524c2-e32c-4fff-9b00-596e5aa4ddae",
   "metadata": {},
   "outputs": [
    {
     "name": "stdout",
     "output_type": "stream",
     "text": [
      "Hello,World!\n"
     ]
    }
   ],
   "source": [
    "input_string = \"Hello, World!\"\n",
    "no_whitespace_string = input_string.replace(\" \", \"\")\n",
    "print(no_whitespace_string)\n"
   ]
  },
  {
   "cell_type": "markdown",
   "id": "361fb0e1-f64a-43a1-8c4a-2cb740eaeb30",
   "metadata": {},
   "source": [
    "#### 8. Find the length of a string without using the `len()` function."
   ]
  },
  {
   "cell_type": "code",
   "execution_count": 8,
   "id": "709b37ad-168d-478a-be12-a86424150216",
   "metadata": {},
   "outputs": [
    {
     "name": "stdout",
     "output_type": "stream",
     "text": [
      "Length: 13\n"
     ]
    }
   ],
   "source": [
    "def custom_len(s):\n",
    "    count = 0\n",
    "    for char in s:\n",
    "        count += 1\n",
    "    return count\n",
    "\n",
    "input_string = \"Hello, World!\"\n",
    "length = custom_len(input_string)\n",
    "print(\"Length:\", length)\n"
   ]
  },
  {
   "cell_type": "markdown",
   "id": "381efea0-83c5-4613-b733-d4d822e4b255",
   "metadata": {},
   "source": [
    "#### 9. Check if a string contains a specific word."
   ]
  },
  {
   "cell_type": "code",
   "execution_count": 9,
   "id": "2b9a12e6-cc27-445f-8a0d-fe5d09b05eb7",
   "metadata": {},
   "outputs": [
    {
     "name": "stdout",
     "output_type": "stream",
     "text": [
      "String contains the word\n"
     ]
    }
   ],
   "source": [
    "def contains_word(s, word):\n",
    "    return word in s\n",
    "\n",
    "input_string = \"Hello, World!\"\n",
    "search_word = \"World\"\n",
    "if contains_word(input_string, search_word):\n",
    "    print(\"String contains the word\")\n",
    "else:\n",
    "    print(\"String does not contain the word\")\n"
   ]
  },
  {
   "cell_type": "markdown",
   "id": "7cc7efc9-3fd4-4295-b991-dfdc889fdf7a",
   "metadata": {},
   "source": [
    "#### 10. Replace a word in a string with another word."
   ]
  },
  {
   "cell_type": "code",
   "execution_count": 10,
   "id": "25c5a907-fd4e-4fdf-9106-174331f3e8d7",
   "metadata": {},
   "outputs": [
    {
     "name": "stdout",
     "output_type": "stream",
     "text": [
      "Hello, Universe!\n"
     ]
    }
   ],
   "source": [
    "def replace_word(s, old_word, new_word):\n",
    "    return s.replace(old_word, new_word)\n",
    "\n",
    "input_string = \"Hello, World!\"\n",
    "new_string = replace_word(input_string, \"World\", \"Universe\")\n",
    "print(new_string)\n"
   ]
  },
  {
   "cell_type": "markdown",
   "id": "4f359ad5-e831-4ef3-bcd6-5a81cc55278b",
   "metadata": {},
   "source": [
    "#### 11. Count the occurrences of a word in a string."
   ]
  },
  {
   "cell_type": "code",
   "execution_count": 11,
   "id": "aefa5131-4f05-425f-9b39-6cbddbb796bd",
   "metadata": {},
   "outputs": [
    {
     "name": "stdout",
     "output_type": "stream",
     "text": [
      "Occurrences: 0\n"
     ]
    }
   ],
   "source": [
    "def count_word_occurrences(s, word):\n",
    "    words = s.split()\n",
    "    count = words.count(word)\n",
    "    return count\n",
    "\n",
    "input_string = \"Hello, Hello, World!\"\n",
    "word_to_count = \"Hello\"\n",
    "occurrence_count = count_word_occurrences(input_string, word_to_count)\n",
    "print(\"Occurrences:\", occurrence_count)\n"
   ]
  },
  {
   "cell_type": "markdown",
   "id": "48b8391d-385d-45d9-97d8-5b36d253ea66",
   "metadata": {},
   "source": [
    "#### 12. Find the first occurrence of a word in a string."
   ]
  },
  {
   "cell_type": "code",
   "execution_count": 12,
   "id": "c92698db-fad8-4c3f-bb3e-da55a659af12",
   "metadata": {},
   "outputs": [
    {
     "name": "stdout",
     "output_type": "stream",
     "text": [
      "First occurrence index: 0\n"
     ]
    }
   ],
   "source": [
    "def first_occurrence(s, word):\n",
    "    return s.find(word)\n",
    "\n",
    "input_string = \"Hello, Hello, World!\"\n",
    "word_to_find = \"Hello\"\n",
    "first_index = first_occurrence(input_string, word_to_find)\n",
    "print(\"First occurrence index:\", first_index)\n"
   ]
  },
  {
   "cell_type": "markdown",
   "id": "27440b36-7b93-45cd-bd6a-97114800a134",
   "metadata": {},
   "source": [
    "#### 13. Find the last occurrence of a word in a string."
   ]
  },
  {
   "cell_type": "code",
   "execution_count": 13,
   "id": "f56b9989-71e6-47ed-b205-814aa00967e6",
   "metadata": {},
   "outputs": [
    {
     "name": "stdout",
     "output_type": "stream",
     "text": [
      "Last occurrence index: 7\n"
     ]
    }
   ],
   "source": [
    "def last_occurrence(s, word):\n",
    "    return s.rfind(word)\n",
    "\n",
    "input_string = \"Hello, Hello, World!\"\n",
    "word_to_find = \"Hello\"\n",
    "last_index = last_occurrence(input_string, word_to_find)\n",
    "print(\"Last occurrence index:\", last_index)\n"
   ]
  },
  {
   "cell_type": "markdown",
   "id": "0d58fe95-c6c5-4f5e-b760-cac01fc08aa1",
   "metadata": {},
   "source": [
    "#### 14. Split a string into a list of words."
   ]
  },
  {
   "cell_type": "code",
   "execution_count": 14,
   "id": "cf13b599-4ff4-4820-b42c-c8942afbea69",
   "metadata": {},
   "outputs": [
    {
     "name": "stdout",
     "output_type": "stream",
     "text": [
      "['Hello,', 'World!']\n"
     ]
    }
   ],
   "source": [
    "input_string = \"Hello, World!\"\n",
    "word_list = input_string.split()\n",
    "print(word_list)\n"
   ]
  },
  {
   "cell_type": "markdown",
   "id": "59ef59cc-4bf1-4e93-84c1-f6ac1aa2b4b8",
   "metadata": {},
   "source": [
    "#### 15. Join a list of words into a string."
   ]
  },
  {
   "cell_type": "code",
   "execution_count": 15,
   "id": "036f98bf-8b40-4616-b927-fc2164608008",
   "metadata": {},
   "outputs": [
    {
     "name": "stdout",
     "output_type": "stream",
     "text": [
      "Hello, World!\n"
     ]
    }
   ],
   "source": [
    "word_list = [\"Hello,\", \"World!\"]\n",
    "joined_string = \" \".join(word_list)\n",
    "print(joined_string)\n"
   ]
  },
  {
   "cell_type": "markdown",
   "id": "722cad0c-1c65-4cfc-a34d-eee3abe5c9be",
   "metadata": {},
   "source": [
    "#### 16. Convert a string where words are separated by spaces to one where words are separated by underscores."
   ]
  },
  {
   "cell_type": "code",
   "execution_count": 16,
   "id": "bb3bc3b7-ca7d-4ded-86db-c0568de2085f",
   "metadata": {},
   "outputs": [
    {
     "name": "stdout",
     "output_type": "stream",
     "text": [
      "hello_world_this_is_a_test\n"
     ]
    }
   ],
   "source": [
    "original_string = \"hello world this is a test\"\n",
    "converted_string = original_string.replace(\" \", \"_\")\n",
    "print(converted_string)\n"
   ]
  },
  {
   "cell_type": "markdown",
   "id": "f4db66c7-f2a8-45fe-bfd1-16de5a661605",
   "metadata": {},
   "source": [
    "#### 17. Check if a string starts with a specific word or phrase."
   ]
  },
  {
   "cell_type": "code",
   "execution_count": 17,
   "id": "dc10acb9-4546-4a87-b8c7-296b8394b58e",
   "metadata": {},
   "outputs": [
    {
     "name": "stdout",
     "output_type": "stream",
     "text": [
      "String starts with the specific word.\n"
     ]
    }
   ],
   "source": [
    "string = \"Hello, how are you?\"\n",
    "specific_word = \"Hello\"\n",
    "if string.startswith(specific_word):\n",
    "    print(\"String starts with the specific word.\")\n",
    "else:\n",
    "    print(\"String does not start with the specific word.\")\n"
   ]
  },
  {
   "cell_type": "markdown",
   "id": "5fd3efe4-d7f6-4286-ba9d-32b8bb842249",
   "metadata": {},
   "source": [
    "#### 18. Check if a string ends with a specific word or phrase."
   ]
  },
  {
   "cell_type": "code",
   "execution_count": 18,
   "id": "5f35d156-eb0a-4f7d-8d8f-a3b53e71e25d",
   "metadata": {},
   "outputs": [
    {
     "name": "stdout",
     "output_type": "stream",
     "text": [
      "String ends with the specific word.\n"
     ]
    }
   ],
   "source": [
    "string = \"This is the end\"\n",
    "specific_word = \"end\"\n",
    "if string.endswith(specific_word):\n",
    "    print(\"String ends with the specific word.\")\n",
    "else:\n",
    "    print(\"String does not end with the specific word.\")\n"
   ]
  },
  {
   "cell_type": "markdown",
   "id": "807e98cb-54c8-4c3a-8f96-467a15093223",
   "metadata": {},
   "source": [
    "#### 19. Convert a string to title case (e.g., \"hello world\" to \"Hello World\")."
   ]
  },
  {
   "cell_type": "code",
   "execution_count": 19,
   "id": "143ddd9d-8ce9-4f91-805c-9b853e5e083d",
   "metadata": {},
   "outputs": [
    {
     "name": "stdout",
     "output_type": "stream",
     "text": [
      "Hello World\n"
     ]
    }
   ],
   "source": [
    "string = \"hello world\"\n",
    "title_case_string = string.title()\n",
    "print(title_case_string)\n"
   ]
  },
  {
   "cell_type": "markdown",
   "id": "a673fcc3-c88d-455d-9825-480e31342146",
   "metadata": {},
   "source": [
    "#### 20. Find the longest word in a string."
   ]
  },
  {
   "cell_type": "code",
   "execution_count": 20,
   "id": "db399972-1884-4564-8b55-1dec478e479f",
   "metadata": {},
   "outputs": [
    {
     "name": "stdout",
     "output_type": "stream",
     "text": [
      "sentence\n"
     ]
    }
   ],
   "source": [
    "string = \"This is a test sentence to find the longest word\"\n",
    "words = string.split()\n",
    "longest_word = max(words, key=len)\n",
    "print(longest_word)\n"
   ]
  },
  {
   "cell_type": "markdown",
   "id": "62c62846-75a9-4536-8185-7e91fdf53292",
   "metadata": {},
   "source": [
    "#### 21. Find the shortest word in a string."
   ]
  },
  {
   "cell_type": "code",
   "execution_count": 21,
   "id": "dafb1a2a-a8e2-4778-9285-eeb0ab798058",
   "metadata": {},
   "outputs": [
    {
     "name": "stdout",
     "output_type": "stream",
     "text": [
      "a\n"
     ]
    }
   ],
   "source": [
    "string = \"This is a test sentence to find the shortest word\"\n",
    "words = string.split()\n",
    "shortest_word = min(words, key=len)\n",
    "print(shortest_word)\n"
   ]
  },
  {
   "cell_type": "markdown",
   "id": "920d34f6-17fb-49ac-a6ec-7af4caf81586",
   "metadata": {},
   "source": [
    "#### 22. Reverse the order of words in a string."
   ]
  },
  {
   "cell_type": "code",
   "execution_count": 22,
   "id": "838ca813-abb7-4719-8d36-d7f13882e8f4",
   "metadata": {},
   "outputs": [
    {
     "name": "stdout",
     "output_type": "stream",
     "text": [
      "sentence reversed a is This\n"
     ]
    }
   ],
   "source": [
    "string = \"This is a reversed sentence\"\n",
    "reversed_string = ' '.join(reversed(string.split()))\n",
    "print(reversed_string)\n"
   ]
  },
  {
   "cell_type": "markdown",
   "id": "6fde5176-61ba-461a-88c6-b6eac2981012",
   "metadata": {},
   "source": [
    "#### 23. Check if a string is alphanumeric."
   ]
  },
  {
   "cell_type": "code",
   "execution_count": 23,
   "id": "7e37ffc5-79ef-4ca0-b8a0-b44334fb3b6d",
   "metadata": {},
   "outputs": [
    {
     "name": "stdout",
     "output_type": "stream",
     "text": [
      "String is alphanumeric.\n"
     ]
    }
   ],
   "source": [
    "string = \"abc123\"\n",
    "if string.isalnum():\n",
    "    print(\"String is alphanumeric.\")\n",
    "else:\n",
    "    print(\"String is not alphanumeric.\")\n"
   ]
  },
  {
   "cell_type": "markdown",
   "id": "44866263-a2a2-4de9-a57c-b309d17aaaee",
   "metadata": {},
   "source": [
    "#### 24. Extract all digits from a string."
   ]
  },
  {
   "cell_type": "code",
   "execution_count": 24,
   "id": "112ed6a0-c07d-452b-a631-72a50d6148c1",
   "metadata": {},
   "outputs": [
    {
     "name": "stdout",
     "output_type": "stream",
     "text": [
      "['1', '2', '3']\n"
     ]
    }
   ],
   "source": [
    "import re\n",
    "string = \"a1b2c3\"\n",
    "digits = re.findall(r'\\d', string)\n",
    "print(digits)\n"
   ]
  },
  {
   "cell_type": "markdown",
   "id": "a40de6b8-2e5e-41f6-83fb-dea51820be98",
   "metadata": {},
   "source": [
    "#### 25. Extract all alphabets from a string."
   ]
  },
  {
   "cell_type": "code",
   "execution_count": 25,
   "id": "e7f52f81-fb9c-4dda-add3-83977fc911a5",
   "metadata": {},
   "outputs": [
    {
     "name": "stdout",
     "output_type": "stream",
     "text": [
      "['a', 'b', 'c']\n"
     ]
    }
   ],
   "source": [
    "import re\n",
    "string = \"a1b2c3\"\n",
    "alphabets = re.findall(r'[a-zA-Z]', string)\n",
    "print(alphabets)\n"
   ]
  },
  {
   "cell_type": "markdown",
   "id": "c66c8ab0-8a24-497d-bc7d-252082c6eb17",
   "metadata": {},
   "source": [
    "#### 26. Count the number of uppercase letters in a string."
   ]
  },
  {
   "cell_type": "code",
   "execution_count": 26,
   "id": "eed51896-ada8-4260-8dde-d4632ee581db",
   "metadata": {},
   "outputs": [
    {
     "name": "stdout",
     "output_type": "stream",
     "text": [
      "2\n"
     ]
    }
   ],
   "source": [
    "string = \"Hello World\"\n",
    "uppercase_count = sum(1 for char in string if char.isupper())\n",
    "print(uppercase_count)\n"
   ]
  },
  {
   "cell_type": "markdown",
   "id": "c3392ad5-c127-4af1-845b-51716803b12d",
   "metadata": {},
   "source": [
    "#### 27. Count the number of lowercase letters in a string."
   ]
  },
  {
   "cell_type": "code",
   "execution_count": 27,
   "id": "fc8ff5f8-ce26-4cba-ac25-9552aded35a7",
   "metadata": {},
   "outputs": [
    {
     "name": "stdout",
     "output_type": "stream",
     "text": [
      "8\n"
     ]
    }
   ],
   "source": [
    "string = \"Hello World\"\n",
    "lowercase_count = sum(1 for char in string if char.islower())\n",
    "print(lowercase_count)\n"
   ]
  },
  {
   "cell_type": "markdown",
   "id": "1c266d59-3d52-4146-ac06-1b209d6e3537",
   "metadata": {},
   "source": [
    "#### 28. Swap the case of each character in a string."
   ]
  },
  {
   "cell_type": "code",
   "execution_count": 28,
   "id": "2e064924-69f7-4382-ad9e-d76963a74741",
   "metadata": {},
   "outputs": [
    {
     "name": "stdout",
     "output_type": "stream",
     "text": [
      "hELLO wORLD\n"
     ]
    }
   ],
   "source": [
    "string = \"Hello World\"\n",
    "swapped_case_string = string.swapcase()\n",
    "print(swapped_case_string)\n"
   ]
  },
  {
   "cell_type": "markdown",
   "id": "b06faa86-d329-4087-8bfd-c31ff12b0aea",
   "metadata": {},
   "source": [
    "#### 29. Remove a specific word from a string."
   ]
  },
  {
   "cell_type": "code",
   "execution_count": 29,
   "id": "b39624a3-bb0d-4d55-bf03-3d4dc5bf9ca9",
   "metadata": {},
   "outputs": [
    {
     "name": "stdout",
     "output_type": "stream",
     "text": [
      "This is a  string\n"
     ]
    }
   ],
   "source": [
    "string = \"This is a test string\"\n",
    "word_to_remove = \"test\"\n",
    "new_string = string.replace(word_to_remove, \"\")\n",
    "print(new_string)\n"
   ]
  },
  {
   "cell_type": "markdown",
   "id": "f730695d-9201-48b7-ae40-bfa57eedf1e3",
   "metadata": {},
   "source": [
    "#### 30. Check if a string is a valid email address."
   ]
  },
  {
   "cell_type": "code",
   "execution_count": 30,
   "id": "5c918703-c54e-4bab-a468-39d9ae7c6a19",
   "metadata": {},
   "outputs": [
    {
     "name": "stdout",
     "output_type": "stream",
     "text": [
      "Valid email address.\n"
     ]
    }
   ],
   "source": [
    "import re\n",
    "email = \"example@example.com\"\n",
    "if re.match(r'^[\\w\\.-]+@[\\w\\.-]+$', email):\n",
    "    print(\"Valid email address.\")\n",
    "else:\n",
    "    print(\"Invalid email address.\")\n"
   ]
  },
  {
   "cell_type": "markdown",
   "id": "03d69aa2-5620-4a64-b8f6-c0a1ebd118be",
   "metadata": {},
   "source": [
    "#### 31. Extract the username from an email address string."
   ]
  },
  {
   "cell_type": "code",
   "execution_count": 31,
   "id": "7c1ce1d4-79e6-4a90-bd5e-dd05987d4e0c",
   "metadata": {},
   "outputs": [
    {
     "name": "stdout",
     "output_type": "stream",
     "text": [
      "username\n"
     ]
    }
   ],
   "source": [
    "email = \"username@example.com\"\n",
    "username = email.split('@')[0]\n",
    "print(username)  \n"
   ]
  },
  {
   "cell_type": "markdown",
   "id": "3d223463-f5fd-4a06-8d28-f260df34680f",
   "metadata": {},
   "source": [
    "#### 32. Extract the domain name from an email address string."
   ]
  },
  {
   "cell_type": "code",
   "execution_count": 32,
   "id": "35f64ccb-105e-4c44-b8cc-1ceb2f455373",
   "metadata": {},
   "outputs": [
    {
     "name": "stdout",
     "output_type": "stream",
     "text": [
      "example.com\n"
     ]
    }
   ],
   "source": [
    "email = \"username@example.com\"\n",
    "domain = email.split('@')[1]\n",
    "print(domain) \n"
   ]
  },
  {
   "cell_type": "markdown",
   "id": "4e92aee7-6085-474b-a092-333ff0f1caae",
   "metadata": {},
   "source": [
    "#### 33. Replace multiple spaces in a string with a single space.\n"
   ]
  },
  {
   "cell_type": "code",
   "execution_count": 33,
   "id": "ec0506df-9835-435e-a9a0-cd9533af0d74",
   "metadata": {},
   "outputs": [
    {
     "name": "stdout",
     "output_type": "stream",
     "text": [
      "Hello world! How are you?\n"
     ]
    }
   ],
   "source": [
    "string_with_multiple_spaces = \"Hello     world!   How    are you?\"\n",
    "single_space_string = ' '.join(string_with_multiple_spaces.split())\n",
    "print(single_space_string)\n"
   ]
  },
  {
   "cell_type": "markdown",
   "id": "64681a2d-07ef-438e-81a2-0b9200032630",
   "metadata": {},
   "source": [
    "#### 34. Check if a string is a valid URL.33. Replace multiple spaces in a string with a single space."
   ]
  },
  {
   "cell_type": "code",
   "execution_count": 34,
   "id": "25fb2ec1-9e56-4a5d-9f8a-65c4e7cab9de",
   "metadata": {},
   "outputs": [
    {
     "name": "stdout",
     "output_type": "stream",
     "text": [
      "True\n"
     ]
    }
   ],
   "source": [
    "import re\n",
    "\n",
    "def is_valid_url(url):\n",
    "    pattern = re.compile(r'^https?://(?:www\\.)?\\w+\\.\\w+$')\n",
    "    return bool(pattern.match(url))\n",
    "\n",
    "url = \"https://www.example.com\"\n",
    "print(is_valid_url(url))\n"
   ]
  },
  {
   "cell_type": "markdown",
   "id": "7bec1270-aa42-48c3-8623-a11791b614aa",
   "metadata": {},
   "source": [
    "#### 35. Extract the protocol (http or https) from a URL string.\n"
   ]
  },
  {
   "cell_type": "code",
   "execution_count": 35,
   "id": "b33731bb-97bc-4357-8e66-8eff2ba3b536",
   "metadata": {},
   "outputs": [
    {
     "name": "stdout",
     "output_type": "stream",
     "text": [
      "https\n"
     ]
    }
   ],
   "source": [
    "url = \"https://www.example.com\"\n",
    "protocol = url.split(':')[0]\n",
    "print(protocol)\n"
   ]
  },
  {
   "cell_type": "markdown",
   "id": "7fc7b4ac-24f1-4632-a6bf-22e76f80ce61",
   "metadata": {},
   "source": [
    "#### 36. Find the frequency of each character in a string."
   ]
  },
  {
   "cell_type": "code",
   "execution_count": 36,
   "id": "3956a599-648c-4b99-8401-37916ccd0359",
   "metadata": {},
   "outputs": [
    {
     "name": "stdout",
     "output_type": "stream",
     "text": [
      "Counter({'l': 3, 'o': 2, 'h': 1, 'e': 1, ' ': 1, 'w': 1, 'r': 1, 'd': 1})\n"
     ]
    }
   ],
   "source": [
    "from collections import Counter\n",
    "\n",
    "string = \"hello world\"\n",
    "character_frequency = Counter(string)\n",
    "print(character_frequency)\n"
   ]
  },
  {
   "cell_type": "markdown",
   "id": "85e088c5-6d71-4458-bf06-03092796d7ab",
   "metadata": {},
   "source": [
    "#### 37. Remove all punctuation from a string."
   ]
  },
  {
   "cell_type": "code",
   "execution_count": 37,
   "id": "b3666988-16e4-4577-b2ae-9f7f458b23dd",
   "metadata": {},
   "outputs": [
    {
     "name": "stdout",
     "output_type": "stream",
     "text": [
      "Hello world\n"
     ]
    }
   ],
   "source": [
    "import string\n",
    "\n",
    "string_with_punctuation = \"Hello, world!\"\n",
    "string_without_punctuation = string_with_punctuation.translate(str.maketrans('', '', string.punctuation))\n",
    "print(string_without_punctuation)\n"
   ]
  },
  {
   "cell_type": "markdown",
   "id": "96df4bdc-6f2c-46d0-82c2-114dbf52ede3",
   "metadata": {},
   "source": [
    "#### 38. Check if a string contains only digits."
   ]
  },
  {
   "cell_type": "code",
   "execution_count": 38,
   "id": "538b4406-1498-4851-b623-c85e03e29458",
   "metadata": {},
   "outputs": [
    {
     "name": "stdout",
     "output_type": "stream",
     "text": [
      "True\n"
     ]
    }
   ],
   "source": [
    "def contains_only_digits(s):\n",
    "    return s.isdigit()\n",
    "\n",
    "string = \"12345\"\n",
    "print(contains_only_digits(string))\n"
   ]
  },
  {
   "cell_type": "markdown",
   "id": "047fc0f7-2536-4efb-85ec-61b5d19f76d5",
   "metadata": {},
   "source": [
    "#### 39. Check if a string contains only alphabets."
   ]
  },
  {
   "cell_type": "code",
   "execution_count": 39,
   "id": "204b1a1e-d0a8-4f67-885f-50e3b4c89bac",
   "metadata": {},
   "outputs": [
    {
     "name": "stdout",
     "output_type": "stream",
     "text": [
      "True\n"
     ]
    }
   ],
   "source": [
    "def contains_only_alphabets(s):\n",
    "    return s.isalpha()\n",
    "\n",
    "string = \"Hello\"\n",
    "print(contains_only_alphabets(string))\n"
   ]
  },
  {
   "cell_type": "markdown",
   "id": "ddc124c7-fdeb-41be-8f0a-76bf3c4f34c1",
   "metadata": {},
   "source": [
    "#### 40. Convert a string to a list of characters."
   ]
  },
  {
   "cell_type": "code",
   "execution_count": 40,
   "id": "444b4e9f-f3e6-4b68-b58f-cdd8138ed994",
   "metadata": {},
   "outputs": [
    {
     "name": "stdout",
     "output_type": "stream",
     "text": [
      "['h', 'e', 'l', 'l', 'o']\n"
     ]
    }
   ],
   "source": [
    "string = \"hello\"\n",
    "characters_list = list(string)\n",
    "print(characters_list)\n"
   ]
  },
  {
   "cell_type": "markdown",
   "id": "f97f6bb1-eb8d-4aa9-bdb2-27ffcf1ee73a",
   "metadata": {},
   "source": [
    "#### 41. Check if two strings are anagrams."
   ]
  },
  {
   "cell_type": "code",
   "execution_count": 41,
   "id": "20828a6e-55fe-4ea4-b275-45e13b49d8ca",
   "metadata": {},
   "outputs": [
    {
     "name": "stdout",
     "output_type": "stream",
     "text": [
      "True\n"
     ]
    }
   ],
   "source": [
    "def are_anagrams(str1, str2):\n",
    "    return sorted(str1) == sorted(str2)\n",
    "\n",
    "string1 = \"listen\"\n",
    "string2 = \"silent\"\n",
    "print(are_anagrams(string1, string2))\n"
   ]
  },
  {
   "cell_type": "markdown",
   "id": "01eb266c-4bc0-4ebc-b7e9-63d9664e42ad",
   "metadata": {},
   "source": [
    "#### 42. Encode a string using a Caesar cipher."
   ]
  },
  {
   "cell_type": "code",
   "execution_count": 42,
   "id": "7bfd1d06-694f-4c15-b8f9-fcbf9460abff",
   "metadata": {},
   "outputs": [
    {
     "name": "stdout",
     "output_type": "stream",
     "text": [
      "khoor\n"
     ]
    }
   ],
   "source": [
    "def caesar_cipher_encode(text, shift):\n",
    "    encoded = \"\"\n",
    "    for char in text:\n",
    "        if char.isalpha():\n",
    "            ascii_offset = ord('a') if char.islower() else ord('A')\n",
    "            encoded_char = chr((ord(char) - ascii_offset + shift) % 26 + ascii_offset)\n",
    "            encoded += encoded_char\n",
    "        else:\n",
    "            encoded += char\n",
    "    return encoded\n",
    "\n",
    "plaintext = \"hello\"\n",
    "shift = 3\n",
    "encoded_text = caesar_cipher_encode(plaintext, shift)\n",
    "print(encoded_text)\n"
   ]
  },
  {
   "cell_type": "markdown",
   "id": "54762ac5-66a4-4091-a22b-42bb8279862e",
   "metadata": {},
   "source": [
    "#### 43. Decode a Caesar cipher encoded string."
   ]
  },
  {
   "cell_type": "code",
   "execution_count": 43,
   "id": "32d0c32d-4656-4e0a-9c18-b664b230bd8d",
   "metadata": {},
   "outputs": [
    {
     "name": "stdout",
     "output_type": "stream",
     "text": [
      "hello\n"
     ]
    }
   ],
   "source": [
    "def caesar_cipher_decode(encoded_text, shift):\n",
    "    return caesar_cipher_encode(encoded_text, -shift)\n",
    "\n",
    "encoded_text = \"khoor\"\n",
    "decoded_text = caesar_cipher_decode(encoded_text, shift)\n",
    "print(decoded_text)\n"
   ]
  },
  {
   "cell_type": "markdown",
   "id": "bf984d39-36d3-49e5-9e36-f6f6bf180f7c",
   "metadata": {},
   "source": [
    "#### 44. Find the most frequent word in a string."
   ]
  },
  {
   "cell_type": "code",
   "execution_count": 44,
   "id": "5689a342-d9a8-44f2-80a8-01d41c4d8d05",
   "metadata": {},
   "outputs": [
    {
     "name": "stdout",
     "output_type": "stream",
     "text": [
      "hello\n"
     ]
    }
   ],
   "source": [
    "from collections import Counter\n",
    "import re\n",
    "\n",
    "def most_frequent_word(text):\n",
    "    words = re.findall(r'\\w+', text.lower())\n",
    "    word_count = Counter(words)\n",
    "    return word_count.most_common(1)[0][0]\n",
    "\n",
    "text = \"hello world hello\"\n",
    "print(most_frequent_word(text))\n"
   ]
  },
  {
   "cell_type": "markdown",
   "id": "1c52959d-9bf7-4b3c-a742-31ca1b1fc94b",
   "metadata": {},
   "source": [
    "#### 45. Find all unique words in a string."
   ]
  },
  {
   "cell_type": "code",
   "execution_count": 45,
   "id": "a6b03bf2-efb1-484d-a455-08de9bb82616",
   "metadata": {},
   "outputs": [
    {
     "name": "stdout",
     "output_type": "stream",
     "text": [
      "{'world', 'hello'}\n"
     ]
    }
   ],
   "source": [
    "import re\n",
    "\n",
    "def unique_words(text):\n",
    "    words = re.findall(r'\\w+', text.lower())\n",
    "    return set(words)\n",
    "\n",
    "text = \"hello world hello\"\n",
    "print(unique_words(text))\n"
   ]
  },
  {
   "cell_type": "markdown",
   "id": "070d47e3-ce39-4a3f-a157-22145cc87930",
   "metadata": {},
   "source": [
    "#### 46. Count the number of syllables in a string."
   ]
  },
  {
   "cell_type": "code",
   "execution_count": 46,
   "id": "82c3ad0e-b86e-4e0a-b186-7bb4d2601116",
   "metadata": {},
   "outputs": [
    {
     "name": "stdout",
     "output_type": "stream",
     "text": [
      "2\n"
     ]
    }
   ],
   "source": [
    "def count_syllables(word):\n",
    "    vowels = \"aeiouAEIOU\"\n",
    "    count = 0\n",
    "    prev_char_vowel = False\n",
    "\n",
    "    for char in word:\n",
    "        if char in vowels:\n",
    "            if not prev_char_vowel:\n",
    "                count += 1\n",
    "            prev_char_vowel = True\n",
    "        else:\n",
    "            prev_char_vowel = False\n",
    "\n",
    "    if word.endswith(\"e\"):\n",
    "        count -= 1\n",
    "    \n",
    "    return max(count, 1)\n",
    "\n",
    "word = \"hello\"\n",
    "syllable_count = count_syllables(word)\n",
    "print(syllable_count)\n"
   ]
  },
  {
   "cell_type": "markdown",
   "id": "905660d2-c4e1-48b7-9b39-57a1f327449c",
   "metadata": {},
   "source": [
    "#### 47. Check if a string contains any special characters."
   ]
  },
  {
   "cell_type": "code",
   "execution_count": 47,
   "id": "23da56ae-8e79-41ba-b4ee-d4201bd2c883",
   "metadata": {},
   "outputs": [
    {
     "name": "stdout",
     "output_type": "stream",
     "text": [
      "True\n"
     ]
    }
   ],
   "source": [
    "import re\n",
    "\n",
    "def contains_special_characters(s):\n",
    "    pattern = re.compile(r'[^a-zA-Z0-9\\s]')\n",
    "    return bool(pattern.search(s))\n",
    "\n",
    "string = \"Hello, world!\"\n",
    "print(contains_special_characters(string))\n"
   ]
  },
  {
   "cell_type": "markdown",
   "id": "9bc55ba5-50df-4cc4-9ec8-7b45accc167e",
   "metadata": {},
   "source": [
    "#### 48. Remove the nth word from a string."
   ]
  },
  {
   "cell_type": "code",
   "execution_count": 48,
   "id": "bf7c78fc-99a5-426f-a643-3c81722b1b16",
   "metadata": {},
   "outputs": [
    {
     "name": "stdout",
     "output_type": "stream",
     "text": [
      "Hello how are you?\n"
     ]
    }
   ],
   "source": [
    "def remove_nth_word(s, n):\n",
    "    words = s.split()\n",
    "    if n >= 1 and n <= len(words):\n",
    "        words.pop(n - 1)\n",
    "    return ' '.join(words)\n",
    "\n",
    "string = \"Hello world, how are you?\"\n",
    "n = 2\n",
    "new_string = remove_nth_word(string, n)\n",
    "print(new_string)\n"
   ]
  },
  {
   "cell_type": "markdown",
   "id": "c33886fc-cf74-4642-9b99-6aaab79b7818",
   "metadata": {},
   "source": [
    "#### 49. Insert a word at the nth position in a string."
   ]
  },
  {
   "cell_type": "code",
   "execution_count": 49,
   "id": "65c0cd88-2f05-4288-8706-4d2a13daa751",
   "metadata": {},
   "outputs": [
    {
     "name": "stdout",
     "output_type": "stream",
     "text": [
      "Hello, how are you?\n"
     ]
    }
   ],
   "source": [
    "def insert_word_at_nth_position(s, word, n):\n",
    "    words = s.split()\n",
    "    words.insert(n - 1, word)\n",
    "    return ' '.join(words)\n",
    "\n",
    "string = \"Hello, how you?\"\n",
    "new_word = \"are\"\n",
    "n = 3\n",
    "new_string = insert_word_at_nth_position(string, new_word, n)\n",
    "print(new_string)\n"
   ]
  },
  {
   "cell_type": "markdown",
   "id": "97b49b1d-6a88-4e61-828d-09561d82f4dc",
   "metadata": {},
   "source": [
    "#### 50. Convert a CSV string to a list of lists."
   ]
  },
  {
   "cell_type": "code",
   "execution_count": 50,
   "id": "d5b99a45-8d1e-4e53-8779-33e2bbb0452a",
   "metadata": {},
   "outputs": [
    {
     "name": "stdout",
     "output_type": "stream",
     "text": [
      "[['1', 'John', 'Doe'], ['2', 'Jane', 'Smith'], ['3', 'Bob', 'Johnson']]\n"
     ]
    }
   ],
   "source": [
    "def csv_to_list_of_lists(csv_string):\n",
    "    lines = csv_string.strip().split('\\n')\n",
    "    result = [line.split(',') for line in lines]\n",
    "    return result\n",
    "\n",
    "csv_string = \"1,John,Doe\\n2,Jane,Smith\\n3,Bob,Johnson\"\n",
    "csv_list = csv_to_list_of_lists(csv_string)\n",
    "print(csv_list)\n"
   ]
  },
  {
   "cell_type": "markdown",
   "id": "8e1fe75a-cc04-496a-a158-d7fa46057751",
   "metadata": {},
   "source": [
    "# List Based Practice Problem :"
   ]
  },
  {
   "cell_type": "markdown",
   "id": "52f94760-3456-4efe-a76d-1b80c9a0baae",
   "metadata": {},
   "source": [
    "#### 1. Create a list with integers from 1 to 10."
   ]
  },
  {
   "cell_type": "code",
   "execution_count": 51,
   "id": "d7085920-1ad0-4793-959a-c89c3b54e74d",
   "metadata": {},
   "outputs": [
    {
     "data": {
      "text/plain": [
       "[1, 2, 3, 4, 5, 6, 7, 8, 9, 10]"
      ]
     },
     "execution_count": 51,
     "metadata": {},
     "output_type": "execute_result"
    }
   ],
   "source": [
    "numbers = [1, 2, 3, 4, 5, 6, 7, 8, 9, 10]\n",
    "(numbers)\n"
   ]
  },
  {
   "cell_type": "markdown",
   "id": "7e8b944a-fcee-47aa-bdaf-dad6631f121a",
   "metadata": {},
   "source": [
    "#### 2. Find the length of a list without using the `len()` function."
   ]
  },
  {
   "cell_type": "code",
   "execution_count": 52,
   "id": "e1154ba7-54e3-4f69-899b-d50012580c90",
   "metadata": {},
   "outputs": [
    {
     "data": {
      "text/plain": [
       "10"
      ]
     },
     "execution_count": 52,
     "metadata": {},
     "output_type": "execute_result"
    }
   ],
   "source": [
    "def custom_len(lst):\n",
    "    count = 0\n",
    "    for _ in lst:\n",
    "        count += 1\n",
    "    return count\n",
    "\n",
    "length = custom_len(numbers)\n",
    "(length)\n"
   ]
  },
  {
   "cell_type": "markdown",
   "id": "5a3005dc-6a5a-4330-b4cb-ade9e773e74d",
   "metadata": {},
   "source": [
    "#### 3. Append an element to the end of a list"
   ]
  },
  {
   "cell_type": "code",
   "execution_count": 53,
   "id": "a9437db3-3e3f-461f-ada0-9dd04d375349",
   "metadata": {},
   "outputs": [
    {
     "data": {
      "text/plain": [
       "[1, 2, 3, 4, 5, 6, 7, 8, 9, 10, 11]"
      ]
     },
     "execution_count": 53,
     "metadata": {},
     "output_type": "execute_result"
    }
   ],
   "source": [
    "numbers.append(11)\n",
    "(numbers)"
   ]
  },
  {
   "cell_type": "markdown",
   "id": "0fd5e579-0452-4772-a4cb-f115d2c5db38",
   "metadata": {},
   "source": [
    "#### 4. Insert an element at a specific index in a list."
   ]
  },
  {
   "cell_type": "code",
   "execution_count": 54,
   "id": "733213c0-7ff9-4d6c-922d-ed609450c81b",
   "metadata": {},
   "outputs": [
    {
     "data": {
      "text/plain": [
       "[1, 2, 15, 3, 4, 5, 6, 7, 8, 9, 10, 11]"
      ]
     },
     "execution_count": 54,
     "metadata": {},
     "output_type": "execute_result"
    }
   ],
   "source": [
    "numbers.insert(2, 15)  \n",
    "(numbers)"
   ]
  },
  {
   "cell_type": "markdown",
   "id": "ba2fb04e-71c1-4167-9cd2-43fdc12cdaca",
   "metadata": {},
   "source": [
    "#### 5. Remove an element from a list by its value."
   ]
  },
  {
   "cell_type": "code",
   "execution_count": 55,
   "id": "14d0d08a-8fd1-48dd-b402-6581aebb5ca7",
   "metadata": {},
   "outputs": [
    {
     "data": {
      "text/plain": [
       "[1, 2, 15, 3, 4, 6, 7, 8, 9, 10, 11]"
      ]
     },
     "execution_count": 55,
     "metadata": {},
     "output_type": "execute_result"
    }
   ],
   "source": [
    "numbers.remove(5) \n",
    "(numbers)"
   ]
  },
  {
   "cell_type": "markdown",
   "id": "8bf3284d-ef59-4a09-8b96-d1df49826675",
   "metadata": {},
   "source": [
    "#### 6. Remove an element from a list by its index."
   ]
  },
  {
   "cell_type": "code",
   "execution_count": 56,
   "id": "948bfa2c-dd06-433a-bf92-267a233a2fa1",
   "metadata": {},
   "outputs": [
    {
     "data": {
      "text/plain": [
       "[1, 2, 15, 4, 6, 7, 8, 9, 10, 11]"
      ]
     },
     "execution_count": 56,
     "metadata": {},
     "output_type": "execute_result"
    }
   ],
   "source": [
    "del numbers[3]  \n",
    "(numbers)"
   ]
  },
  {
   "cell_type": "markdown",
   "id": "7b9100c6-b40e-4231-91f6-d4da94e933d8",
   "metadata": {},
   "source": [
    "#### 7. Check if an element exists in a list."
   ]
  },
  {
   "cell_type": "code",
   "execution_count": 57,
   "id": "a92457cb-9fb5-4d2e-bd65-060a03aa2f6c",
   "metadata": {},
   "outputs": [
    {
     "name": "stdout",
     "output_type": "stream",
     "text": [
      "7 exists in the list\n"
     ]
    }
   ],
   "source": [
    "if 7 in numbers:\n",
    "    print(\"7 exists in the list\")\n"
   ]
  },
  {
   "cell_type": "markdown",
   "id": "6ba7bb06-795e-4f2b-92e1-11e9061fcd98",
   "metadata": {},
   "source": [
    "#### 8. Find the index of the first occurrence of an element in a list."
   ]
  },
  {
   "cell_type": "code",
   "execution_count": 58,
   "id": "484619fa-4ee9-4dd0-8dda-6bf752c7315d",
   "metadata": {},
   "outputs": [
    {
     "data": {
      "text/plain": [
       "6"
      ]
     },
     "execution_count": 58,
     "metadata": {},
     "output_type": "execute_result"
    }
   ],
   "source": [
    "index = numbers.index(8)  \n",
    "(index)"
   ]
  },
  {
   "cell_type": "markdown",
   "id": "3156a912-7855-44f9-af88-6ca03992adfc",
   "metadata": {},
   "source": [
    "#### 9. Count the occurrences of an element in a list."
   ]
  },
  {
   "cell_type": "code",
   "execution_count": 59,
   "id": "7645b080-4257-496f-ab3d-d87a89bd3655",
   "metadata": {},
   "outputs": [
    {
     "data": {
      "text/plain": [
       "1"
      ]
     },
     "execution_count": 59,
     "metadata": {},
     "output_type": "execute_result"
    }
   ],
   "source": [
    "count_9 = numbers.count(9) \n",
    "(count_9)"
   ]
  },
  {
   "cell_type": "markdown",
   "id": "a3426a57-6ca6-4c79-bfa4-e4f6d1860703",
   "metadata": {},
   "source": [
    "#### 10. Reverse the order of elements in a list."
   ]
  },
  {
   "cell_type": "code",
   "execution_count": 60,
   "id": "b176e504-8fef-45f9-931c-f6783148909c",
   "metadata": {},
   "outputs": [
    {
     "data": {
      "text/plain": [
       "[11, 10, 9, 8, 7, 6, 4, 15, 2, 1]"
      ]
     },
     "execution_count": 60,
     "metadata": {},
     "output_type": "execute_result"
    }
   ],
   "source": [
    "numbers.reverse()  \n",
    "(numbers)"
   ]
  },
  {
   "cell_type": "markdown",
   "id": "c9c5bf3d-341e-4cc6-9bb9-f7f81bd251d0",
   "metadata": {},
   "source": [
    "#### 11. Sort a list in ascending order."
   ]
  },
  {
   "cell_type": "code",
   "execution_count": 61,
   "id": "8382299b-48ec-4c43-b0f1-cf778ca4392f",
   "metadata": {},
   "outputs": [
    {
     "data": {
      "text/plain": [
       "[1, 2, 4, 6, 7, 8, 9, 10, 11, 15]"
      ]
     },
     "execution_count": 61,
     "metadata": {},
     "output_type": "execute_result"
    }
   ],
   "source": [
    "numbers.sort()\n",
    "(numbers)"
   ]
  },
  {
   "cell_type": "markdown",
   "id": "25e5a655-9950-4e03-963a-848226a2f066",
   "metadata": {},
   "source": [
    "#### 12. Sort a list in descending order."
   ]
  },
  {
   "cell_type": "code",
   "execution_count": 62,
   "id": "00f417b4-a635-4abb-b010-0cc1351e84aa",
   "metadata": {},
   "outputs": [
    {
     "data": {
      "text/plain": [
       "[15, 11, 10, 9, 8, 7, 6, 4, 2, 1]"
      ]
     },
     "execution_count": 62,
     "metadata": {},
     "output_type": "execute_result"
    }
   ],
   "source": [
    "numbers.sort(reverse=True) \n",
    "(numbers)"
   ]
  },
  {
   "cell_type": "markdown",
   "id": "2380ad64-ded5-4793-b389-c762436b6f50",
   "metadata": {},
   "source": [
    "#### 13. Create a list of even numbers from 1 to 20.\n"
   ]
  },
  {
   "cell_type": "code",
   "execution_count": 63,
   "id": "000f3158-2a8f-4b6b-b93f-3207520d1996",
   "metadata": {},
   "outputs": [
    {
     "data": {
      "text/plain": [
       "[2, 4, 6, 8, 10, 12, 14, 16, 18, 20]"
      ]
     },
     "execution_count": 63,
     "metadata": {},
     "output_type": "execute_result"
    }
   ],
   "source": [
    "evens = [num for num in range(2, 21, 2)]\n",
    "evens"
   ]
  },
  {
   "cell_type": "markdown",
   "id": "791f0306-eddf-47e1-a992-f95d3d8a951a",
   "metadata": {},
   "source": [
    "#### 14. Create a list of odd numbers from 1 to 20."
   ]
  },
  {
   "cell_type": "code",
   "execution_count": 64,
   "id": "2a5625df-c247-4ad0-8f3d-662626df6519",
   "metadata": {},
   "outputs": [
    {
     "data": {
      "text/plain": [
       "[1, 3, 5, 7, 9, 11, 13, 15, 17, 19]"
      ]
     },
     "execution_count": 64,
     "metadata": {},
     "output_type": "execute_result"
    }
   ],
   "source": [
    "odds = [num for num in range(1, 21, 2)]\n",
    "odds"
   ]
  },
  {
   "cell_type": "markdown",
   "id": "ff0f4731-e12d-47ee-a8cf-b8a8e7cb19af",
   "metadata": {},
   "source": [
    "#### 15. Find the sum of all elements in a list."
   ]
  },
  {
   "cell_type": "code",
   "execution_count": 65,
   "id": "0fb97948-aaaa-4cb3-94b7-f0027484f733",
   "metadata": {},
   "outputs": [
    {
     "data": {
      "text/plain": [
       "73"
      ]
     },
     "execution_count": 65,
     "metadata": {},
     "output_type": "execute_result"
    }
   ],
   "source": [
    "total_sum = sum(numbers)\n",
    "total_sum"
   ]
  },
  {
   "cell_type": "markdown",
   "id": "cded13bc-b933-4a5d-98a5-3fc470213dde",
   "metadata": {},
   "source": [
    "#### 16. Find the maximum value in a list."
   ]
  },
  {
   "cell_type": "code",
   "execution_count": 66,
   "id": "5bb199ba-5ac7-4753-94c8-c488f16ab02d",
   "metadata": {},
   "outputs": [
    {
     "data": {
      "text/plain": [
       "15"
      ]
     },
     "execution_count": 66,
     "metadata": {},
     "output_type": "execute_result"
    }
   ],
   "source": [
    "max_value = max(numbers)\n",
    "max_value"
   ]
  },
  {
   "cell_type": "markdown",
   "id": "46700c54-2a31-4d22-98de-27ad7ec76e7b",
   "metadata": {},
   "source": [
    "#### 17. Find the minimum value in a list."
   ]
  },
  {
   "cell_type": "code",
   "execution_count": 67,
   "id": "5836c0f8-831a-4b29-ade1-11ef10cd6042",
   "metadata": {},
   "outputs": [
    {
     "data": {
      "text/plain": [
       "1"
      ]
     },
     "execution_count": 67,
     "metadata": {},
     "output_type": "execute_result"
    }
   ],
   "source": [
    "min_value = min(numbers)\n",
    "min_value"
   ]
  },
  {
   "cell_type": "markdown",
   "id": "cdfde690-ed6a-4489-a18e-8cdaaaa8ab41",
   "metadata": {},
   "source": [
    "#### 18. Create a list of squares of numbers from 1 to 10."
   ]
  },
  {
   "cell_type": "code",
   "execution_count": 68,
   "id": "c5b89c29-0e33-4c19-8645-eba5d3e9b1dc",
   "metadata": {},
   "outputs": [
    {
     "data": {
      "text/plain": [
       "[225, 121, 100, 81, 64, 49, 36, 16, 4, 1]"
      ]
     },
     "execution_count": 68,
     "metadata": {},
     "output_type": "execute_result"
    }
   ],
   "source": [
    "squares = [num ** 2 for num in numbers]\n",
    "squares"
   ]
  },
  {
   "cell_type": "markdown",
   "id": "03cffd7d-da15-42f5-8ee9-80943fddd18d",
   "metadata": {},
   "source": [
    "#### 19. Create a list of random numbers."
   ]
  },
  {
   "cell_type": "code",
   "execution_count": 69,
   "id": "76dd42f6-547e-47da-a98f-601bc0e28aa8",
   "metadata": {},
   "outputs": [
    {
     "data": {
      "text/plain": [
       "[72, 88, 77, 53, 76, 80, 47, 12, 100, 35]"
      ]
     },
     "execution_count": 69,
     "metadata": {},
     "output_type": "execute_result"
    }
   ],
   "source": [
    "import random\n",
    "random_list = [random.randint(1, 100) for _ in range(10)]\n",
    "random_list"
   ]
  },
  {
   "cell_type": "markdown",
   "id": "6337b31e-bc40-4ea8-980e-a72ddfc07cbf",
   "metadata": {},
   "source": [
    "#### 20. Remove duplicates from a list."
   ]
  },
  {
   "cell_type": "code",
   "execution_count": 70,
   "id": "1e642acf-bfad-453a-b5e3-2cc7178a7e5f",
   "metadata": {},
   "outputs": [
    {
     "data": {
      "text/plain": [
       "[1, 2, 4, 6, 7, 8, 9, 10, 11, 15]"
      ]
     },
     "execution_count": 70,
     "metadata": {},
     "output_type": "execute_result"
    }
   ],
   "source": [
    "unique_numbers = list(set(numbers))\n",
    "unique_numbers"
   ]
  },
  {
   "cell_type": "markdown",
   "id": "5e3164bd-0dc8-4180-9028-6adaa42fd5ad",
   "metadata": {},
   "source": [
    "#### 21. Find the common elements between two lists."
   ]
  },
  {
   "cell_type": "code",
   "execution_count": 71,
   "id": "954a1312-c183-4efc-897a-281dade239df",
   "metadata": {},
   "outputs": [
    {
     "data": {
      "text/plain": [
       "[3, 4, 5]"
      ]
     },
     "execution_count": 71,
     "metadata": {},
     "output_type": "execute_result"
    }
   ],
   "source": [
    "list1 = [1, 2, 3, 4, 5]\n",
    "list2 = [3, 4, 5, 6, 7]\n",
    "common_elements = [num for num in list1 if num in list2]\n",
    "common_elements"
   ]
  },
  {
   "cell_type": "markdown",
   "id": "5b9bb51c-c4f8-4c5b-8df5-c2c195dd88d0",
   "metadata": {},
   "source": [
    "#### 22. Find the difference between two lists."
   ]
  },
  {
   "cell_type": "code",
   "execution_count": 72,
   "id": "ccfe799a-99c5-49b2-8021-7cef649ffa94",
   "metadata": {},
   "outputs": [
    {
     "data": {
      "text/plain": [
       "[1, 2]"
      ]
     },
     "execution_count": 72,
     "metadata": {},
     "output_type": "execute_result"
    }
   ],
   "source": [
    "difference = [num for num in list1 if num not in list2]\n",
    "difference"
   ]
  },
  {
   "cell_type": "markdown",
   "id": "dddc6ebf-7c6e-4365-a211-6ab1533826b7",
   "metadata": {
    "tags": []
   },
   "source": [
    "#### 23. Merge two lists."
   ]
  },
  {
   "cell_type": "code",
   "execution_count": 73,
   "id": "26fcf276-3692-43f1-9b4b-d2f31c1d8978",
   "metadata": {},
   "outputs": [
    {
     "data": {
      "text/plain": [
       "[1, 2, 3, 4, 5, 3, 4, 5, 6, 7]"
      ]
     },
     "execution_count": 73,
     "metadata": {},
     "output_type": "execute_result"
    }
   ],
   "source": [
    " merged_list = list1 + list2\n",
    "merged_list"
   ]
  },
  {
   "cell_type": "markdown",
   "id": "93a60fa3-d2e2-41f3-bc86-974b3747e1dc",
   "metadata": {},
   "source": [
    "#### 24. Multiply all elements in a list by 2."
   ]
  },
  {
   "cell_type": "code",
   "execution_count": 74,
   "id": "726da0c6-64ae-466b-92da-df1ddd7435a2",
   "metadata": {},
   "outputs": [
    {
     "data": {
      "text/plain": [
       "[30, 22, 20, 18, 16, 14, 12, 8, 4, 2]"
      ]
     },
     "execution_count": 74,
     "metadata": {},
     "output_type": "execute_result"
    }
   ],
   "source": [
    "doubled_numbers = [num * 2 for num in numbers]\n",
    "doubled_numbers"
   ]
  },
  {
   "cell_type": "markdown",
   "id": "165c5332-b512-4199-924f-4fd40dc3ebdd",
   "metadata": {},
   "source": [
    "#### 25. Filter out all even numbers from a list."
   ]
  },
  {
   "cell_type": "code",
   "execution_count": 75,
   "id": "c5936569-a3ad-4282-a50e-1197225ceb92",
   "metadata": {},
   "outputs": [
    {
     "data": {
      "text/plain": [
       "[15, 11, 9, 7, 1]"
      ]
     },
     "execution_count": 75,
     "metadata": {},
     "output_type": "execute_result"
    }
   ],
   "source": [
    "odd_numbers = [num for num in numbers if num % 2 != 0]\n",
    "odd_numbers"
   ]
  },
  {
   "cell_type": "markdown",
   "id": "a3be3264-a52d-4e44-9533-619410a81014",
   "metadata": {},
   "source": [
    "#### 26. Convert a list of strings to a list of integers."
   ]
  },
  {
   "cell_type": "code",
   "execution_count": 76,
   "id": "a9cb5fe5-aa5b-41d7-9fa3-ef2c90064470",
   "metadata": {},
   "outputs": [
    {
     "data": {
      "text/plain": [
       "[1, 2, 3, 4, 5]"
      ]
     },
     "execution_count": 76,
     "metadata": {},
     "output_type": "execute_result"
    }
   ],
   "source": [
    "string_list = [\"1\", \"2\", \"3\", \"4\", \"5\"]\n",
    "int_list = [int(item) for item in string_list]\n",
    "int_list"
   ]
  },
  {
   "cell_type": "markdown",
   "id": "27ca6fd1-8697-40f4-9e44-1c8819ad155e",
   "metadata": {},
   "source": [
    "#### 27. Convert a list of integers to a list of strings."
   ]
  },
  {
   "cell_type": "code",
   "execution_count": 77,
   "id": "be10c1fe-291e-4acd-bb77-b5821831f602",
   "metadata": {},
   "outputs": [
    {
     "data": {
      "text/plain": [
       "['1', '2', '3', '4', '5']"
      ]
     },
     "execution_count": 77,
     "metadata": {},
     "output_type": "execute_result"
    }
   ],
   "source": [
    "int_list = [1, 2, 3, 4, 5]\n",
    "string_list = [str(item) for item in int_list]\n",
    "string_list"
   ]
  },
  {
   "cell_type": "markdown",
   "id": "971cab92-3f55-4baf-8de2-f95a5481faaf",
   "metadata": {},
   "source": [
    "#### 28. Flatten a nested list."
   ]
  },
  {
   "cell_type": "code",
   "execution_count": 78,
   "id": "b64f5c3c-d96d-411f-b3b4-08dc8487da00",
   "metadata": {},
   "outputs": [
    {
     "data": {
      "text/plain": [
       "[1, 2, 3, 4, 5, 6, 7, 8, 9]"
      ]
     },
     "execution_count": 78,
     "metadata": {},
     "output_type": "execute_result"
    }
   ],
   "source": [
    "nested_list = [[1, 2, 3], [4, 5, 6], [7, 8, 9]]\n",
    "flat_list = [item for sublist in nested_list for item in sublist]\n",
    "flat_list"
   ]
  },
  {
   "cell_type": "markdown",
   "id": "d77ae09f-c882-44bd-b608-46dcc78cb3eb",
   "metadata": {},
   "source": [
    "#### 29. Create a list of the first 10 Fibonacci numbers."
   ]
  },
  {
   "cell_type": "code",
   "execution_count": 79,
   "id": "21edd91b-dbcd-4818-bbe6-bf84334d1173",
   "metadata": {},
   "outputs": [
    {
     "data": {
      "text/plain": [
       "[0, 1, 1, 2, 3, 5, 8, 13, 21, 34]"
      ]
     },
     "execution_count": 79,
     "metadata": {},
     "output_type": "execute_result"
    }
   ],
   "source": [
    "def fibonacci(n):\n",
    "    fib = [0, 1]\n",
    "    for _ in range(2, n):\n",
    "        fib.append(fib[-1] + fib[-2])\n",
    "    return fib\n",
    "\n",
    "fibonacci_list = fibonacci(10)\n",
    "fibonacci_list"
   ]
  },
  {
   "cell_type": "markdown",
   "id": "2ae9d355-af1a-4318-9439-34934473dacd",
   "metadata": {},
   "source": [
    "#### 30. Check if a list is sorted."
   ]
  },
  {
   "cell_type": "code",
   "execution_count": 80,
   "id": "851357b1-dc47-498a-a96c-c9cbdee7bbce",
   "metadata": {},
   "outputs": [
    {
     "data": {
      "text/plain": [
       "False"
      ]
     },
     "execution_count": 80,
     "metadata": {},
     "output_type": "execute_result"
    }
   ],
   "source": [
    "is_sorted = all(numbers[i] <= numbers[i + 1] for i in range(len(numbers) - 1))\n",
    "is_sorted"
   ]
  },
  {
   "cell_type": "markdown",
   "id": "88dd14a8-5a3c-49f9-879f-4e842286af9d",
   "metadata": {},
   "source": [
    "#### 31. Rotate a list to the left by `n` positions."
   ]
  },
  {
   "cell_type": "code",
   "execution_count": 81,
   "id": "69664388-95d3-44ed-ae4e-f5575028841f",
   "metadata": {},
   "outputs": [
    {
     "data": {
      "text/plain": [
       "[9, 8, 7, 6, 4, 2, 1, 15, 11, 10]"
      ]
     },
     "execution_count": 81,
     "metadata": {},
     "output_type": "execute_result"
    }
   ],
   "source": [
    "n = 3\n",
    "rotated_list = numbers[n:] + numbers[:n]\n",
    "rotated_list"
   ]
  },
  {
   "cell_type": "markdown",
   "id": "c57144f1-1404-454d-9769-46e7a92b8394",
   "metadata": {},
   "source": [
    "#### 32. Rotate a list to the right by `n` positions.\n"
   ]
  },
  {
   "cell_type": "code",
   "execution_count": 82,
   "id": "51735077-23ff-44b0-b073-041ec938ed60",
   "metadata": {},
   "outputs": [
    {
     "data": {
      "text/plain": [
       "[4, 2, 1, 15, 11, 10, 9, 8, 7, 6]"
      ]
     },
     "execution_count": 82,
     "metadata": {},
     "output_type": "execute_result"
    }
   ],
   "source": [
    "n = 3\n",
    "rotated_list = numbers[-n:] + numbers[:-n]\n",
    "rotated_list"
   ]
  },
  {
   "cell_type": "markdown",
   "id": "3b5c8dc7-6feb-4ce6-b147-bf7ca2a08838",
   "metadata": {},
   "source": [
    "#### 33. Create a list of prime numbers up to 50."
   ]
  },
  {
   "cell_type": "code",
   "execution_count": 83,
   "id": "7218f902-2d82-4d2c-b23e-20dc990932dc",
   "metadata": {},
   "outputs": [
    {
     "data": {
      "text/plain": [
       "[2, 3, 5, 7, 11, 13, 17, 19, 23, 29, 31, 37, 41, 43, 47]"
      ]
     },
     "execution_count": 83,
     "metadata": {},
     "output_type": "execute_result"
    }
   ],
   "source": [
    "def is_prime(num):\n",
    "    if num <= 1:\n",
    "        return False\n",
    "    for i in range(2, int(num ** 0.5) + 1):\n",
    "        if num % i == 0:\n",
    "            return False\n",
    "    return True\n",
    "\n",
    "prime_list = [num for num in range(2, 51) if is_prime(num)]\n",
    "prime_list"
   ]
  },
  {
   "cell_type": "markdown",
   "id": "24418598-2937-4be7-b2f3-91daf932fbe4",
   "metadata": {},
   "source": [
    "#### 34. Split a list into chunks of size `n`."
   ]
  },
  {
   "cell_type": "code",
   "execution_count": 84,
   "id": "c33d352b-35f2-4fc7-b77b-ffcde6e3ad51",
   "metadata": {},
   "outputs": [
    {
     "data": {
      "text/plain": [
       "[[15, 11, 10], [9, 8, 7], [6, 4, 2], [1]]"
      ]
     },
     "execution_count": 84,
     "metadata": {},
     "output_type": "execute_result"
    }
   ],
   "source": [
    "n = 3\n",
    "chunked_list = [numbers[i:i + n] for i in range(0, len(numbers), n)]\n",
    "chunked_list"
   ]
  },
  {
   "cell_type": "markdown",
   "id": "cd79890d-3b9c-4ceb-884c-4fb7aab22b10",
   "metadata": {},
   "source": [
    "#### 35. Find the second largest number in a list."
   ]
  },
  {
   "cell_type": "code",
   "execution_count": 85,
   "id": "6a483fd9-7ce3-4524-a192-d51ba07e092b",
   "metadata": {},
   "outputs": [
    {
     "data": {
      "text/plain": [
       "11"
      ]
     },
     "execution_count": 85,
     "metadata": {},
     "output_type": "execute_result"
    }
   ],
   "source": [
    "sorted_numbers = sorted(numbers)\n",
    "second_largest = sorted_numbers[-2]\n",
    "second_largest"
   ]
  },
  {
   "cell_type": "markdown",
   "id": "f4f3d097-7e97-411f-820e-76fb570c080f",
   "metadata": {},
   "source": [
    "#### 36. Replace every element in a list with its square."
   ]
  },
  {
   "cell_type": "code",
   "execution_count": 86,
   "id": "84a68adf-8a10-4ff5-98f8-ff20d25e7582",
   "metadata": {},
   "outputs": [
    {
     "data": {
      "text/plain": [
       "[225, 121, 100, 81, 64, 49, 36, 16, 4, 1]"
      ]
     },
     "execution_count": 86,
     "metadata": {},
     "output_type": "execute_result"
    }
   ],
   "source": [
    "squared_list = [num ** 2 for num in numbers]\n",
    "squared_list"
   ]
  },
  {
   "cell_type": "markdown",
   "id": "90a45a88-f3a6-421a-b368-5f92bd6d2ffc",
   "metadata": {},
   "source": [
    "#### 37. Convert a list to a dictionary where list elements become keys and their indices become values.\n"
   ]
  },
  {
   "cell_type": "code",
   "execution_count": 87,
   "id": "890b81fc-aad4-49f3-a415-edd1de0d0d6d",
   "metadata": {},
   "outputs": [
    {
     "data": {
      "text/plain": [
       "{15: 0, 11: 1, 10: 2, 9: 3, 8: 4, 7: 5, 6: 6, 4: 7, 2: 8, 1: 9}"
      ]
     },
     "execution_count": 87,
     "metadata": {},
     "output_type": "execute_result"
    }
   ],
   "source": [
    "dict_from_list = {value: index for index, value in enumerate(numbers)}\n",
    "dict_from_list"
   ]
  },
  {
   "cell_type": "markdown",
   "id": "7ecfe769-99d5-421a-af6d-f54b6a652526",
   "metadata": {},
   "source": [
    "#### 38. Shuffle the elements of a list randomly."
   ]
  },
  {
   "cell_type": "code",
   "execution_count": 88,
   "id": "e6194432-1ee3-43d1-be33-06ffc5d895d5",
   "metadata": {},
   "outputs": [
    {
     "data": {
      "text/plain": [
       "[15, 11, 10, 9, 8, 7, 6, 4, 2, 1]"
      ]
     },
     "execution_count": 88,
     "metadata": {},
     "output_type": "execute_result"
    }
   ],
   "source": [
    "import random\n",
    "shuffled_list = numbers.copy()\n",
    "random.shuffle(shuffled_list)\n",
    "numbers"
   ]
  },
  {
   "cell_type": "markdown",
   "id": "1fb014cc-98a5-4ef0-b164-67ff8a10df4b",
   "metadata": {},
   "source": [
    "#### 39. Create a list of the first 10 factorial numbers."
   ]
  },
  {
   "cell_type": "code",
   "execution_count": 89,
   "id": "5eb71296-6903-4c18-b662-b3776b260a4d",
   "metadata": {},
   "outputs": [
    {
     "data": {
      "text/plain": [
       "[1, 2, 6, 24, 120, 720, 5040, 40320, 362880, 3628800]"
      ]
     },
     "execution_count": 89,
     "metadata": {},
     "output_type": "execute_result"
    }
   ],
   "source": [
    "def factorial(n):\n",
    "    if n == 0:\n",
    "        return 1\n",
    "    return n * factorial(n - 1)\n",
    "\n",
    "factorial_list = [factorial(i) for i in range(1, 11)]\n",
    "factorial_list"
   ]
  },
  {
   "cell_type": "markdown",
   "id": "56b82de2-5dbc-4746-888d-925b5bb9f395",
   "metadata": {},
   "source": [
    "#### 40. Check if two lists have at least one element in common."
   ]
  },
  {
   "cell_type": "code",
   "execution_count": 90,
   "id": "94f40d29-3d41-42f1-ba47-9c7fa047d27d",
   "metadata": {},
   "outputs": [
    {
     "data": {
      "text/plain": [
       "True"
      ]
     },
     "execution_count": 90,
     "metadata": {},
     "output_type": "execute_result"
    }
   ],
   "source": [
    "has_common = any(item in list1 for item in list2)\n",
    "has_common"
   ]
  },
  {
   "cell_type": "markdown",
   "id": "79978522-fd75-4cc1-a895-c1f62c0867cb",
   "metadata": {},
   "source": [
    "#### 41. Remove all elements from a list.\n"
   ]
  },
  {
   "cell_type": "code",
   "execution_count": 91,
   "id": "1d217575-ab30-495f-b0ae-e5ffcce8d004",
   "metadata": {},
   "outputs": [
    {
     "data": {
      "text/plain": [
       "[]"
      ]
     },
     "execution_count": 91,
     "metadata": {},
     "output_type": "execute_result"
    }
   ],
   "source": [
    "numbers.clear()\n",
    "numbers"
   ]
  },
  {
   "cell_type": "markdown",
   "id": "eb7a6eca-99f4-4c3f-8e5b-c78b1bb0c37f",
   "metadata": {},
   "source": [
    "#### 42. Replace negative numbers in a list with 0."
   ]
  },
  {
   "cell_type": "code",
   "execution_count": 92,
   "id": "b45f67ed-14c9-4c7b-8fe8-3064a4b162c5",
   "metadata": {},
   "outputs": [
    {
     "data": {
      "text/plain": [
       "[]"
      ]
     },
     "execution_count": 92,
     "metadata": {},
     "output_type": "execute_result"
    }
   ],
   "source": [
    "non_negative_list = [num if num >= 0 else 0 for num in numbers]\n",
    "non_negative_list"
   ]
  },
  {
   "cell_type": "markdown",
   "id": "ca714691-38ca-4538-a697-c50ce29716fd",
   "metadata": {},
   "source": [
    "#### 43. Convert a string into a list of words."
   ]
  },
  {
   "cell_type": "code",
   "execution_count": 93,
   "id": "ec73163d-382b-4e13-aa2d-f857cc290cfc",
   "metadata": {},
   "outputs": [
    {
     "data": {
      "text/plain": [
       "['This', 'is', 'a', 'sample', 'sentence.']"
      ]
     },
     "execution_count": 93,
     "metadata": {},
     "output_type": "execute_result"
    }
   ],
   "source": [
    "text = \"This is a sample sentence.\"\n",
    "word_list = text.split()\n",
    "word_list"
   ]
  },
  {
   "cell_type": "markdown",
   "id": "c1dcd560-7089-47d0-9038-a02336e98350",
   "metadata": {},
   "source": [
    "#### 44. Convert a list of words into a string."
   ]
  },
  {
   "cell_type": "code",
   "execution_count": 94,
   "id": "3f52423c-ca60-4943-962e-b27c926989d9",
   "metadata": {},
   "outputs": [
    {
     "data": {
      "text/plain": [
       "'This is a sample sentence.'"
      ]
     },
     "execution_count": 94,
     "metadata": {},
     "output_type": "execute_result"
    }
   ],
   "source": [
    "word_list = [\"This\", \"is\", \"a\", \"sample\", \"sentence.\"]\n",
    "text = \" \".join(word_list)\n",
    "text"
   ]
  },
  {
   "cell_type": "markdown",
   "id": "836d46b0-f3e3-4ae9-962d-294e189af296",
   "metadata": {},
   "source": [
    "#### 45. Create a list of the first `n` powers of 2."
   ]
  },
  {
   "cell_type": "code",
   "execution_count": 95,
   "id": "d5f2e69d-4812-4037-b278-ff6abf33e0cf",
   "metadata": {},
   "outputs": [
    {
     "data": {
      "text/plain": [
       "[1, 2, 4, 8, 16]"
      ]
     },
     "execution_count": 95,
     "metadata": {},
     "output_type": "execute_result"
    }
   ],
   "source": [
    "n = 5\n",
    "powers_of_2 = [2 ** i for i in range(n)]\n",
    "powers_of_2"
   ]
  },
  {
   "cell_type": "markdown",
   "id": "99b54b6d-e43d-4199-9878-cad59203d51d",
   "metadata": {},
   "source": [
    "#### 46. Find the longest string in a list of strings.\n"
   ]
  },
  {
   "cell_type": "code",
   "execution_count": 96,
   "id": "74ba9e69-fdcd-4e68-9428-322cdf2c688c",
   "metadata": {},
   "outputs": [
    {
     "data": {
      "text/plain": [
       "'banana'"
      ]
     },
     "execution_count": 96,
     "metadata": {},
     "output_type": "execute_result"
    }
   ],
   "source": [
    "strings = [\"apple\", \"banana\", \"cherry\", \"date\"]\n",
    "longest_string = max(strings, key=len)\n",
    "longest_string"
   ]
  },
  {
   "cell_type": "markdown",
   "id": "4fd2da6b-7b1d-4442-b5ee-6933faf647a5",
   "metadata": {},
   "source": [
    "#### 47. Find the shortest string in a list of strings"
   ]
  },
  {
   "cell_type": "code",
   "execution_count": 97,
   "id": "128820a3-63e8-48df-8ec7-d07a796b8e75",
   "metadata": {},
   "outputs": [
    {
     "data": {
      "text/plain": [
       "'date'"
      ]
     },
     "execution_count": 97,
     "metadata": {},
     "output_type": "execute_result"
    }
   ],
   "source": [
    "shortest_string = min(strings, key=len)\n",
    "shortest_string"
   ]
  },
  {
   "cell_type": "markdown",
   "id": "4d2f2b2c-a2c3-4eee-ad98-e9d2bea1edad",
   "metadata": {},
   "source": [
    "#### 48. Create a list of the first `n` triangular numbers."
   ]
  },
  {
   "cell_type": "code",
   "execution_count": 98,
   "id": "5295aabf-36c8-4d1e-8ac7-62c45636505e",
   "metadata": {},
   "outputs": [
    {
     "data": {
      "text/plain": [
       "[1, 3, 6, 10, 15]"
      ]
     },
     "execution_count": 98,
     "metadata": {},
     "output_type": "execute_result"
    }
   ],
   "source": [
    "def triangular_number(n):\n",
    "    return n * (n + 1) // 2\n",
    "\n",
    "triangular_numbers = [triangular_number(i) for i in range(1, n + 1)]\n",
    "triangular_numbers\n"
   ]
  },
  {
   "cell_type": "markdown",
   "id": "f007d972-55b3-4b5a-8fdc-9f25626fc8f9",
   "metadata": {},
   "source": [
    "#### 49. Check if a list contains another list as a subsequence."
   ]
  },
  {
   "cell_type": "code",
   "execution_count": 99,
   "id": "478b8f85-cb23-473b-97f1-73c850c29c52",
   "metadata": {},
   "outputs": [
    {
     "name": "stdout",
     "output_type": "stream",
     "text": [
      "True\n"
     ]
    }
   ],
   "source": [
    "def is_subsequence(sub, main):\n",
    "    i, j = 0, 0\n",
    "    while i < len(sub) and j < len(main):\n",
    "        if sub[i] == main[j]:\n",
    "            i += 1\n",
    "        j += 1\n",
    "    return i == len(sub)\n",
    "\n",
    "main_list = [1, 2, 3, 4, 5, 6, 7, 8, 9, 10]\n",
    "sub_list = [3, 5, 7]\n",
    "\n",
    "is_subseq = is_subsequence(sub_list, main_list)\n",
    "print(is_subseq) \n"
   ]
  },
  {
   "cell_type": "markdown",
   "id": "4d1059aa-18a5-49d3-b95e-017b699dbbe9",
   "metadata": {},
   "source": [
    "#### 50. Swap two elements in a list by their indices."
   ]
  },
  {
   "cell_type": "code",
   "execution_count": 100,
   "id": "d7107a9a-27d6-4256-945a-bf739d5e1dc3",
   "metadata": {},
   "outputs": [
    {
     "name": "stdout",
     "output_type": "stream",
     "text": [
      "[1, 4, 3, 2, 5]\n"
     ]
    }
   ],
   "source": [
    "def swap_elements(lst, index1, index2):\n",
    "    lst[index1], lst[index2] = lst[index2], lst[index1]\n",
    "\n",
    "numbers = [1, 2, 3, 4, 5]\n",
    "index1, index2 = 1, 3\n",
    "\n",
    "swap_elements(numbers, index1, index2)\n",
    "print(numbers) \n"
   ]
  },
  {
   "cell_type": "markdown",
   "id": "2ff610fa-334c-48b3-8a86-5a5459a6644a",
   "metadata": {},
   "source": [
    "# Tuple Based Practice Problem :"
   ]
  },
  {
   "cell_type": "markdown",
   "id": "1a648f5c-4fd7-458f-9723-75ddc304a790",
   "metadata": {},
   "source": [
    "#### 1. Create a tuple with integers from 1 to 5."
   ]
  },
  {
   "cell_type": "code",
   "execution_count": 101,
   "id": "01db1dd9-fee4-4127-b781-6b6844fc5515",
   "metadata": {},
   "outputs": [
    {
     "data": {
      "text/plain": [
       "(1, 2, 3, 4, 5)"
      ]
     },
     "execution_count": 101,
     "metadata": {},
     "output_type": "execute_result"
    }
   ],
   "source": [
    "tuple_1 = (1, 2, 3, 4, 5)\n",
    "tuple_1"
   ]
  },
  {
   "cell_type": "markdown",
   "id": "e22b1402-de29-4bda-921a-959f778ed18c",
   "metadata": {},
   "source": [
    "#### 2. Access the third element of a tuple"
   ]
  },
  {
   "cell_type": "code",
   "execution_count": 102,
   "id": "e85d73bf-2f39-43ef-85b1-1e57d126027f",
   "metadata": {},
   "outputs": [
    {
     "name": "stdout",
     "output_type": "stream",
     "text": [
      "3\n"
     ]
    }
   ],
   "source": [
    "print(tuple_1[2])\n"
   ]
  },
  {
   "cell_type": "markdown",
   "id": "9f6a2f71-3c03-403a-be6f-9c170d5e5b0c",
   "metadata": {},
   "source": [
    "#### 3. Find the length of a tuple without using the `len()` function."
   ]
  },
  {
   "cell_type": "code",
   "execution_count": 103,
   "id": "b9e82e4b-72c2-4e9e-a1b3-3f2bb42b7fbc",
   "metadata": {},
   "outputs": [
    {
     "name": "stdout",
     "output_type": "stream",
     "text": [
      "5\n"
     ]
    }
   ],
   "source": [
    "number_of_elements = 0\n",
    "for i in tuple_1:\n",
    "  number_of_elements += 1\n",
    "\n",
    "print(number_of_elements)\n"
   ]
  },
  {
   "cell_type": "markdown",
   "id": "bda33aad-595d-4eb5-8254-09cdd4b92fc7",
   "metadata": {},
   "source": [
    "#### 4. Count the occurrences of an element in a tuple."
   ]
  },
  {
   "cell_type": "code",
   "execution_count": 104,
   "id": "6177c46b-9db7-4256-88df-50b3aaac6284",
   "metadata": {},
   "outputs": [
    {
     "name": "stdout",
     "output_type": "stream",
     "text": [
      "1\n"
     ]
    }
   ],
   "source": [
    "number_of_occurrences = tuple_1.count(3)\n",
    "\n",
    "print(number_of_occurrences)\n"
   ]
  },
  {
   "cell_type": "markdown",
   "id": "171f01d7-74ff-4679-a1c5-413800d19712",
   "metadata": {},
   "source": [
    "#### 5. Find the index of the first occurrence of an element in a tuple."
   ]
  },
  {
   "cell_type": "code",
   "execution_count": 105,
   "id": "89335acc-8a06-4021-9322-c59daee9ac9d",
   "metadata": {},
   "outputs": [
    {
     "name": "stdout",
     "output_type": "stream",
     "text": [
      "1\n"
     ]
    }
   ],
   "source": [
    "index = tuple_1.index(2)\n",
    "\n",
    "print(index)\n"
   ]
  },
  {
   "cell_type": "markdown",
   "id": "f4c84528-c767-4ea6-8fc2-7d31c2dc3467",
   "metadata": {},
   "source": [
    "#### 6. Check if an element exists in a tuple."
   ]
  },
  {
   "cell_type": "code",
   "execution_count": 106,
   "id": "12cdeff8-86c4-4720-a9c1-61c9a0bb3403",
   "metadata": {},
   "outputs": [
    {
     "name": "stdout",
     "output_type": "stream",
     "text": [
      "True\n"
     ]
    }
   ],
   "source": [
    "is_element_present = 5 in tuple_1\n",
    "\n",
    "print(is_element_present)\n"
   ]
  },
  {
   "cell_type": "markdown",
   "id": "2e60759c-22b1-42b0-95c7-62e665ddb286",
   "metadata": {},
   "source": [
    "#### 7. Convert a tuple to a list."
   ]
  },
  {
   "cell_type": "code",
   "execution_count": 107,
   "id": "7c9804ae-911f-4ad3-86ca-f537cf608919",
   "metadata": {},
   "outputs": [
    {
     "name": "stdout",
     "output_type": "stream",
     "text": [
      "[1, 2, 3, 4, 5]\n"
     ]
    }
   ],
   "source": [
    "list_1 = list(tuple_1)\n",
    "\n",
    "print(list_1)\n"
   ]
  },
  {
   "cell_type": "markdown",
   "id": "fe946e9e-20f4-479d-8bb7-57e4eef9af97",
   "metadata": {},
   "source": [
    "#### 8. Convert a list to a tuple."
   ]
  },
  {
   "cell_type": "code",
   "execution_count": 108,
   "id": "e77cce98-ee47-4982-af23-c1fd792ee6a2",
   "metadata": {},
   "outputs": [
    {
     "name": "stdout",
     "output_type": "stream",
     "text": [
      "(1, 2, 3, 4, 5)\n"
     ]
    }
   ],
   "source": [
    "list_1 = [1, 2, 3, 4, 5]\n",
    "\n",
    "tuple_2 =  tuple(i for i in list_1)\n",
    "\n",
    "print(tuple_2)\n"
   ]
  },
  {
   "cell_type": "markdown",
   "id": "b500e5e9-22a0-477f-8974-b0a56f867641",
   "metadata": {},
   "source": [
    "#### 9. Unpack the elements of a tuple into variables."
   ]
  },
  {
   "cell_type": "code",
   "execution_count": 109,
   "id": "4aff0443-8000-4c49-8679-4c6c22714807",
   "metadata": {},
   "outputs": [
    {
     "name": "stdout",
     "output_type": "stream",
     "text": [
      "1 2 3 4 5\n"
     ]
    }
   ],
   "source": [
    "a, b, c, d, e = tuple_1\n",
    "\n",
    "print(a, b, c, d, e)\n"
   ]
  },
  {
   "cell_type": "markdown",
   "id": "de3847c3-6dff-4246-b0ba-b1c61a0c24ba",
   "metadata": {},
   "source": [
    "#### 10. Create a tuple of even numbers from 1 to 10."
   ]
  },
  {
   "cell_type": "code",
   "execution_count": 110,
   "id": "690793c6-0ca6-4052-9cc8-153bce9fbf85",
   "metadata": {},
   "outputs": [
    {
     "name": "stdout",
     "output_type": "stream",
     "text": [
      "(2, 4, 6, 8, 10)\n"
     ]
    }
   ],
   "source": [
    "even_numbers = tuple(range(2, 11, 2))\n",
    "\n",
    "print(even_numbers)\n"
   ]
  },
  {
   "cell_type": "markdown",
   "id": "0b8fd6d7-b7e0-4653-be77-42c6635ed83c",
   "metadata": {},
   "source": [
    "#### 11. Create a tuple of odd numbers from 1 to 10."
   ]
  },
  {
   "cell_type": "code",
   "execution_count": 111,
   "id": "41a1e98e-f866-4cc4-809a-77ba4d4d1b3a",
   "metadata": {},
   "outputs": [
    {
     "name": "stdout",
     "output_type": "stream",
     "text": [
      "(1, 3, 5, 7, 9)\n"
     ]
    }
   ],
   "source": [
    "even_numbers = tuple(range(1, 11, 2))\n",
    "\n",
    "print(even_numbers)\n"
   ]
  },
  {
   "cell_type": "markdown",
   "id": "82152696-4b6c-4e8a-ac8f-5b9d4eca9906",
   "metadata": {},
   "source": [
    "#### 12. Concatenate two tuples."
   ]
  },
  {
   "cell_type": "code",
   "execution_count": 112,
   "id": "1e8f1125-c45d-4bdd-99c6-81b1e1cdc221",
   "metadata": {},
   "outputs": [
    {
     "data": {
      "text/plain": [
       "(1, 2, 3, 4, 5, 6, 7, 8, 9)"
      ]
     },
     "execution_count": 112,
     "metadata": {},
     "output_type": "execute_result"
    }
   ],
   "source": [
    "tuple_1 = (1,2,3,4,5,6)\n",
    "tuple_2 = (7,8,9)\n",
    "tuple_3 = tuple_1+tuple_2\n",
    "tuple_3"
   ]
  },
  {
   "cell_type": "markdown",
   "id": "57dcd48b-7265-47da-ac7f-951d155065fc",
   "metadata": {},
   "source": [
    "#### 13. Repeat a tuple three times."
   ]
  },
  {
   "cell_type": "code",
   "execution_count": 113,
   "id": "eb421bdc-ca4a-46fc-800c-c4500d756ea3",
   "metadata": {},
   "outputs": [
    {
     "name": "stdout",
     "output_type": "stream",
     "text": [
      "(1, 2, 3, 1, 2, 3, 1, 2, 3)\n"
     ]
    }
   ],
   "source": [
    "tuple_1 = (1, 2, 3)\n",
    "\n",
    "tuple_3 = tuple_1 * 3\n",
    "\n",
    "print(tuple_3)\n"
   ]
  },
  {
   "cell_type": "markdown",
   "id": "8ec748b8-a54d-41e2-8205-3332a44a5490",
   "metadata": {},
   "source": [
    "#### 14. Check if a tuple is empty."
   ]
  },
  {
   "cell_type": "code",
   "execution_count": 114,
   "id": "39ef0d96-dc2b-4aa9-9b34-2c4688775590",
   "metadata": {},
   "outputs": [
    {
     "name": "stdout",
     "output_type": "stream",
     "text": [
      "The tuple is empty.\n"
     ]
    }
   ],
   "source": [
    "tuple_1 = ()\n",
    "\n",
    "if not tuple_1:\n",
    "  print(\"The tuple is empty.\")\n"
   ]
  },
  {
   "cell_type": "markdown",
   "id": "bbfc27cf-81bb-42c0-9338-c0a03204cfa5",
   "metadata": {},
   "source": [
    "#### 15. Create a nested tuple."
   ]
  },
  {
   "cell_type": "code",
   "execution_count": 115,
   "id": "950de144-725a-4386-95aa-c1f90b2e774e",
   "metadata": {},
   "outputs": [
    {
     "name": "stdout",
     "output_type": "stream",
     "text": [
      "((1, 2, 3), ('a', 'b', 'c'))\n"
     ]
    }
   ],
   "source": [
    "tuple_1 = (1, 2, 3)\n",
    "tuple_2 = (\"a\", \"b\", \"c\")\n",
    "\n",
    "tuple_3 = (tuple_1, tuple_2)\n",
    "\n",
    "print(tuple_3)\n"
   ]
  },
  {
   "cell_type": "markdown",
   "id": "39dc99b9-27ae-4630-8819-f28d5ac15344",
   "metadata": {},
   "source": [
    "#### 16. Access the first element of a nested tuple."
   ]
  },
  {
   "cell_type": "code",
   "execution_count": 116,
   "id": "5104ff8d-49dd-4447-a237-2401a73e66a0",
   "metadata": {},
   "outputs": [
    {
     "name": "stdout",
     "output_type": "stream",
     "text": [
      "1\n"
     ]
    }
   ],
   "source": [
    "tuple_1 = (1, 2, 3)\n",
    "tuple_2 = (\"a\", \"b\", \"c\")\n",
    "\n",
    "tuple_3 = (tuple_1, tuple_2)\n",
    "\n",
    "first_element = tuple_3[0][0]\n",
    "\n",
    "print(first_element)\n"
   ]
  },
  {
   "cell_type": "markdown",
   "id": "df939018-113b-461c-acce-fb3816eede1f",
   "metadata": {},
   "source": [
    "#### 16. Access the first element of a nested tuple."
   ]
  },
  {
   "cell_type": "code",
   "execution_count": 117,
   "id": "e962496a-8ac2-4d4d-b4cf-a50dc233d817",
   "metadata": {},
   "outputs": [
    {
     "name": "stdout",
     "output_type": "stream",
     "text": [
      "(1,)\n"
     ]
    }
   ],
   "source": [
    "tuple_1 = (1,)\n",
    "\n",
    "print(tuple_1)\n"
   ]
  },
  {
   "cell_type": "markdown",
   "id": "7911f5e9-6c6f-48ff-8250-203af5defe74",
   "metadata": {},
   "source": [
    "#### 18. Compare two tuples."
   ]
  },
  {
   "cell_type": "code",
   "execution_count": 118,
   "id": "0d1d58ca-be68-462c-b4e7-bad23808d733",
   "metadata": {},
   "outputs": [
    {
     "name": "stdout",
     "output_type": "stream",
     "text": [
      "The tuples are not equal.\n"
     ]
    }
   ],
   "source": [
    "tuple_1 = (1, 2, 3)\n",
    "tuple_2 = (1, 2, 4)\n",
    "\n",
    "if tuple_1 == tuple_2:\n",
    "  print(\"The tuples are equal.\")\n",
    "else:\n",
    "  print(\"The tuples are not equal.\")\n"
   ]
  },
  {
   "cell_type": "markdown",
   "id": "937e67a1-a78c-4ef3-8bd2-9a71c553a02b",
   "metadata": {},
   "source": [
    "#### 19. Delete a tuple."
   ]
  },
  {
   "cell_type": "code",
   "execution_count": 119,
   "id": "3ebcf241-6242-4b58-b54e-36d2054e16aa",
   "metadata": {},
   "outputs": [
    {
     "ename": "NameError",
     "evalue": "name 'tuple_1' is not defined",
     "output_type": "error",
     "traceback": [
      "\u001b[0;31m---------------------------------------------------------------------------\u001b[0m",
      "\u001b[0;31mNameError\u001b[0m                                 Traceback (most recent call last)",
      "Cell \u001b[0;32mIn[119], line 4\u001b[0m\n\u001b[1;32m      1\u001b[0m tuple_1 \u001b[38;5;241m=\u001b[39m (\u001b[38;5;241m1\u001b[39m, \u001b[38;5;241m2\u001b[39m, \u001b[38;5;241m3\u001b[39m)\n\u001b[1;32m      3\u001b[0m \u001b[38;5;28;01mdel\u001b[39;00m tuple_1\n\u001b[0;32m----> 4\u001b[0m \u001b[38;5;28mprint\u001b[39m(\u001b[43mtuple_1\u001b[49m)\n",
      "\u001b[0;31mNameError\u001b[0m: name 'tuple_1' is not defined"
     ]
    }
   ],
   "source": [
    "tuple_1 = (1, 2, 3)\n",
    "\n",
    "del tuple_1\n",
    "print(tuple_1)\n"
   ]
  },
  {
   "cell_type": "markdown",
   "id": "49f7a63c-16fb-4b24-a3a6-17abfa7960fb",
   "metadata": {},
   "source": [
    "#### 20. Slice a tuple"
   ]
  },
  {
   "cell_type": "code",
   "execution_count": 120,
   "id": "41d29ed6-34e9-4c37-b391-b5f33d89fc97",
   "metadata": {},
   "outputs": [
    {
     "name": "stdout",
     "output_type": "stream",
     "text": [
      "(2, 3)\n"
     ]
    }
   ],
   "source": [
    "tuple_1 = (1, 2, 3, 4, 5)\n",
    "\n",
    "sliced_tuple = tuple_1[1:3]\n",
    "\n",
    "print(sliced_tuple)\n"
   ]
  },
  {
   "cell_type": "markdown",
   "id": "3edd766a-3285-4ac9-b18c-6ace316ddf2f",
   "metadata": {},
   "source": [
    "#### 21. Find the maximum value in a tuple."
   ]
  },
  {
   "cell_type": "code",
   "execution_count": 121,
   "id": "833fbd97-c84e-4b8d-8db8-08ec19e00c2a",
   "metadata": {},
   "outputs": [
    {
     "name": "stdout",
     "output_type": "stream",
     "text": [
      "10\n"
     ]
    }
   ],
   "source": [
    "my_tuple = (5, 8, 2, 10, 3)\n",
    "max_value = max(my_tuple)\n",
    "print(max_value)\n"
   ]
  },
  {
   "cell_type": "markdown",
   "id": "e65e958f-ecf2-4327-9363-3efe003f16fa",
   "metadata": {},
   "source": [
    "#### 22. Find the minimum value in a tuple."
   ]
  },
  {
   "cell_type": "code",
   "execution_count": 122,
   "id": "be1d44f2-9c34-4b7e-8939-99b21ab54e1e",
   "metadata": {},
   "outputs": [
    {
     "name": "stdout",
     "output_type": "stream",
     "text": [
      "2\n"
     ]
    }
   ],
   "source": [
    "my_tuple = (5, 8, 2, 10, 3)\n",
    "min_value = min(my_tuple)\n",
    "print(min_value)\n"
   ]
  },
  {
   "cell_type": "markdown",
   "id": "7fdf5708-a032-42ae-8074-252b00cd6def",
   "metadata": {},
   "source": [
    "#### 23. Convert a string to a tuple of characters."
   ]
  },
  {
   "cell_type": "code",
   "execution_count": 123,
   "id": "4f1c49c8-ce12-498a-8c5a-507d87968742",
   "metadata": {},
   "outputs": [
    {
     "name": "stdout",
     "output_type": "stream",
     "text": [
      "('h', 'e', 'l', 'l', 'o')\n"
     ]
    }
   ],
   "source": [
    "my_string = \"hello\"\n",
    "char_tuple = tuple(my_string)\n",
    "print(char_tuple)\n"
   ]
  },
  {
   "cell_type": "markdown",
   "id": "19e78fbd-dcac-46e4-b101-ac15dcd03ce1",
   "metadata": {},
   "source": [
    "#### 24. Convert a tuple of characters to a string."
   ]
  },
  {
   "cell_type": "code",
   "execution_count": 124,
   "id": "bfb27375-053c-415c-8c00-50bccbe49128",
   "metadata": {},
   "outputs": [
    {
     "name": "stdout",
     "output_type": "stream",
     "text": [
      "hello\n"
     ]
    }
   ],
   "source": [
    "char_tuple = ('h', 'e', 'l', 'l', 'o')\n",
    "my_string = ''.join(char_tuple)\n",
    "print(my_string)\n"
   ]
  },
  {
   "cell_type": "markdown",
   "id": "5f64381c-1097-4a51-893d-cc812dcc4f90",
   "metadata": {},
   "source": [
    "#### 25. Create a tuple from multiple data types."
   ]
  },
  {
   "cell_type": "code",
   "execution_count": 125,
   "id": "fd563717-e725-471d-85ce-7d6074bec4b8",
   "metadata": {},
   "outputs": [
    {
     "name": "stdout",
     "output_type": "stream",
     "text": [
      "(1, 'apple', 3.14, True)\n"
     ]
    }
   ],
   "source": [
    "mixed_tuple = (1, 'apple', 3.14, True)\n",
    "print(mixed_tuple)\n"
   ]
  },
  {
   "cell_type": "markdown",
   "id": "ff1e93c3-803d-4ac1-a1c5-2316c4617b78",
   "metadata": {},
   "source": [
    "#### 26. Check if two tuples are identical."
   ]
  },
  {
   "cell_type": "code",
   "execution_count": 126,
   "id": "e3fd04a1-9bae-45e6-9ff9-377eaff14366",
   "metadata": {},
   "outputs": [
    {
     "name": "stdout",
     "output_type": "stream",
     "text": [
      "True\n"
     ]
    }
   ],
   "source": [
    "tuple1 = (1, 2, 3)\n",
    "tuple2 = (1, 2, 3)\n",
    "are_identical = tuple1 == tuple2\n",
    "print(are_identical)\n"
   ]
  },
  {
   "cell_type": "markdown",
   "id": "404eb9a9-6fcc-4d06-b3ec-15254437c016",
   "metadata": {},
   "source": [
    "#### 27. Sort the elements of a tuple."
   ]
  },
  {
   "cell_type": "code",
   "execution_count": 127,
   "id": "3faea005-cb6c-451f-ad3d-20834bdde009",
   "metadata": {},
   "outputs": [
    {
     "name": "stdout",
     "output_type": "stream",
     "text": [
      "(1, 2, 3, 5, 8)\n"
     ]
    }
   ],
   "source": [
    "my_tuple = (5, 2, 8, 1, 3)\n",
    "sorted_tuple = tuple(sorted(my_tuple))\n",
    "print(sorted_tuple)\n"
   ]
  },
  {
   "cell_type": "markdown",
   "id": "0ade248f-476d-44e7-a8df-71def13b0dcc",
   "metadata": {},
   "source": [
    "#### 28. Convert a tuple of integers to a tuple of strings."
   ]
  },
  {
   "cell_type": "code",
   "execution_count": 128,
   "id": "7c50f87d-37f3-483f-9e59-31c0a0aa9ede",
   "metadata": {},
   "outputs": [
    {
     "name": "stdout",
     "output_type": "stream",
     "text": [
      "('1', '2', '3')\n"
     ]
    }
   ],
   "source": [
    "int_tuple = (1, 2, 3)\n",
    "str_tuple = tuple(map(str, int_tuple))\n",
    "print(str_tuple)\n"
   ]
  },
  {
   "cell_type": "markdown",
   "id": "047fa438-15ec-4d42-8bf0-bea163c6b629",
   "metadata": {},
   "source": [
    "#### 29. Convert a tuple of strings to a tuple of integers."
   ]
  },
  {
   "cell_type": "code",
   "execution_count": 129,
   "id": "d4f630ef-ee55-4c10-8ed0-1f8307049d05",
   "metadata": {},
   "outputs": [
    {
     "name": "stdout",
     "output_type": "stream",
     "text": [
      "(1, 2, 3)\n"
     ]
    }
   ],
   "source": [
    "str_tuple = ('1', '2', '3')\n",
    "int_tuple = tuple(map(int, str_tuple))\n",
    "print(int_tuple)\n"
   ]
  },
  {
   "cell_type": "markdown",
   "id": "9ce0d1a4-a423-4286-b1a1-0ba2849a6c91",
   "metadata": {},
   "source": [
    "#### 30. Merge two tuples.\n"
   ]
  },
  {
   "cell_type": "code",
   "execution_count": 130,
   "id": "1d262f15-29d5-4dad-8247-f54b979e484d",
   "metadata": {},
   "outputs": [
    {
     "name": "stdout",
     "output_type": "stream",
     "text": [
      "(1, 2, 3, 4, 5, 6)\n"
     ]
    }
   ],
   "source": [
    "tuple1 = (1, 2, 3)\n",
    "tuple2 = (4, 5, 6)\n",
    "merged_tuple = tuple1 + tuple2\n",
    "print(merged_tuple)\n"
   ]
  },
  {
   "cell_type": "markdown",
   "id": "518909a9-dde5-4aaa-ae6a-d165b54e26f2",
   "metadata": {},
   "source": [
    "#### 31. Flatten a nested tuple."
   ]
  },
  {
   "cell_type": "code",
   "execution_count": 131,
   "id": "85f1d57d-41d3-4f3d-9e79-fe43fd7ad2b6",
   "metadata": {},
   "outputs": [
    {
     "name": "stdout",
     "output_type": "stream",
     "text": [
      "(1, 2, 3, 4, 5, 6)\n"
     ]
    }
   ],
   "source": [
    "nested_tuple = ((1, 2), (3, 4), (5, 6))\n",
    "flattened_tuple = tuple(item for sublist in nested_tuple for item in sublist)\n",
    "print(flattened_tuple)\n"
   ]
  },
  {
   "cell_type": "markdown",
   "id": "3b645cd9-9b68-4128-895b-5996d4db85bf",
   "metadata": {},
   "source": [
    "#### 32. Create a tuple of the first 5 prime numbers."
   ]
  },
  {
   "cell_type": "code",
   "execution_count": 132,
   "id": "d3c94033-44d7-4282-b39b-08a67e54b7f1",
   "metadata": {},
   "outputs": [
    {
     "name": "stdout",
     "output_type": "stream",
     "text": [
      "(2, 3, 5, 7, 11)\n"
     ]
    }
   ],
   "source": [
    "prime_numbers = (2, 3, 5, 7, 11)\n",
    "print(prime_numbers)\n"
   ]
  },
  {
   "cell_type": "markdown",
   "id": "90e1cab5-50e3-4f55-b51c-7dec9ebd1251",
   "metadata": {},
   "source": [
    "#### 33. Check if a tuple is a palindrome."
   ]
  },
  {
   "cell_type": "code",
   "execution_count": 133,
   "id": "7afc662f-2de1-4b67-9788-ef7d18565bca",
   "metadata": {},
   "outputs": [
    {
     "name": "stdout",
     "output_type": "stream",
     "text": [
      "True\n"
     ]
    }
   ],
   "source": [
    "my_tuple = (1, 2, 3, 2, 1)\n",
    "is_palindrome = my_tuple == my_tuple[::-1]\n",
    "print(is_palindrome)\n"
   ]
  },
  {
   "cell_type": "markdown",
   "id": "e85a153f-84d3-450c-9060-48b6d44e1732",
   "metadata": {},
   "source": [
    "#### 34. Create a tuple of squares of numbers from 1 to 5."
   ]
  },
  {
   "cell_type": "code",
   "execution_count": 134,
   "id": "278c3850-8a33-4b73-9649-2f29419498cb",
   "metadata": {},
   "outputs": [
    {
     "name": "stdout",
     "output_type": "stream",
     "text": [
      "(1, 4, 9, 16, 25)\n"
     ]
    }
   ],
   "source": [
    "squares_tuple = tuple(x**2 for x in range(1, 6))\n",
    "print(squares_tuple)\n"
   ]
  },
  {
   "cell_type": "markdown",
   "id": "d02fb97b-4934-4dce-bcc5-71643f6c7998",
   "metadata": {},
   "source": [
    "#### 35. Filter out all even numbers from a tuple."
   ]
  },
  {
   "cell_type": "code",
   "execution_count": 135,
   "id": "0e281b05-02ab-4e3e-9020-6c0610d2bd47",
   "metadata": {},
   "outputs": [
    {
     "name": "stdout",
     "output_type": "stream",
     "text": [
      "(1, 3, 5)\n"
     ]
    }
   ],
   "source": [
    "my_tuple = (1, 2, 3, 4, 5, 6)\n",
    "filtered_tuple = tuple(x for x in my_tuple if x % 2 != 0)\n",
    "print(filtered_tuple)\n"
   ]
  },
  {
   "cell_type": "markdown",
   "id": "038f6706-b539-432a-8134-a0b5db4af1e0",
   "metadata": {},
   "source": [
    "#### 36. Multiply all elements in a tuple by 2."
   ]
  },
  {
   "cell_type": "code",
   "execution_count": 136,
   "id": "9d2ff4f9-99e8-4e71-ae6f-9cabcc686f24",
   "metadata": {},
   "outputs": [
    {
     "name": "stdout",
     "output_type": "stream",
     "text": [
      "(2, 4, 6, 8, 10)\n"
     ]
    }
   ],
   "source": [
    "my_tuple = (1, 2, 3, 4, 5)\n",
    "doubled_tuple = tuple(x * 2 for x in my_tuple)\n",
    "print(doubled_tuple)\n"
   ]
  },
  {
   "cell_type": "markdown",
   "id": "7b2d640d-6b50-4020-b81a-9f46c3f763cc",
   "metadata": {},
   "source": [
    "#### 37. Create a tuple of random numbers."
   ]
  },
  {
   "cell_type": "code",
   "execution_count": 137,
   "id": "84aac945-7e71-4522-97c3-10df8ddff883",
   "metadata": {},
   "outputs": [
    {
     "name": "stdout",
     "output_type": "stream",
     "text": [
      "(76, 77, 84, 3, 51)\n"
     ]
    }
   ],
   "source": [
    "import random\n",
    "\n",
    "random_tuple = tuple(random.randint(1, 100) for _ in range(5))\n",
    "print(random_tuple)\n"
   ]
  },
  {
   "cell_type": "markdown",
   "id": "7cb1f85f-4bae-4df2-b10e-c8ede4f82c6a",
   "metadata": {},
   "source": [
    "#### 38. Check if a tuple is sorted."
   ]
  },
  {
   "cell_type": "code",
   "execution_count": 138,
   "id": "7a3a5826-1d76-4e94-b79e-801563409a16",
   "metadata": {},
   "outputs": [
    {
     "name": "stdout",
     "output_type": "stream",
     "text": [
      "True\n"
     ]
    }
   ],
   "source": [
    "my_tuple = (1, 2, 3, 4, 5)\n",
    "is_sorted = my_tuple == tuple(sorted(my_tuple))\n",
    "print(is_sorted)\n"
   ]
  },
  {
   "cell_type": "markdown",
   "id": "8f5926e1-47ad-4077-9453-90a3b870eac8",
   "metadata": {},
   "source": [
    "#### 39. Rotate a tuple to the left by `n` positions."
   ]
  },
  {
   "cell_type": "code",
   "execution_count": 139,
   "id": "17955255-1af9-4057-af29-9a4654cd295b",
   "metadata": {},
   "outputs": [
    {
     "name": "stdout",
     "output_type": "stream",
     "text": [
      "(3, 4, 5, 1, 2)\n"
     ]
    }
   ],
   "source": [
    "my_tuple = (1, 2, 3, 4, 5)\n",
    "n = 2\n",
    "rotated_tuple = my_tuple[n:] + my_tuple[:n]\n",
    "print(rotated_tuple)\n"
   ]
  },
  {
   "cell_type": "markdown",
   "id": "6c5f51fd-ed68-4698-aca3-e02a5b3dec42",
   "metadata": {},
   "source": [
    "#### 40. Rotate a tuple to the right by `n` positions."
   ]
  },
  {
   "cell_type": "code",
   "execution_count": 140,
   "id": "89cc8973-b988-4401-991c-d8da6d1686db",
   "metadata": {},
   "outputs": [
    {
     "name": "stdout",
     "output_type": "stream",
     "text": [
      "(4, 5, 1, 2, 3)\n"
     ]
    }
   ],
   "source": [
    "my_tuple = (1, 2, 3, 4, 5)\n",
    "n = 2\n",
    "rotated_tuple = my_tuple[-n:] + my_tuple[:-n]\n",
    "print(rotated_tuple)\n"
   ]
  },
  {
   "cell_type": "markdown",
   "id": "5180e45a-7c15-4586-aae6-22fd229c63ba",
   "metadata": {},
   "source": [
    "#### 41. Create a tuple of the first 5 Fibonacci numbers."
   ]
  },
  {
   "cell_type": "code",
   "execution_count": 141,
   "id": "6ade852c-5d8d-4c8b-83d8-f930eabe510a",
   "metadata": {},
   "outputs": [
    {
     "name": "stdout",
     "output_type": "stream",
     "text": [
      "(0, 1, 1, 2, 3)\n"
     ]
    }
   ],
   "source": [
    "def generate_fibonacci(n):\n",
    "    fibonacci = [0, 1]\n",
    "    while len(fibonacci) < n:\n",
    "        next_fib = fibonacci[-1] + fibonacci[-2]\n",
    "        fibonacci.append(next_fib)\n",
    "    return tuple(fibonacci)\n",
    "\n",
    "fibonacci_tuple = generate_fibonacci(5)\n",
    "print(fibonacci_tuple)\n"
   ]
  },
  {
   "cell_type": "markdown",
   "id": "89243f78-5673-4e69-8015-1398b22b2042",
   "metadata": {},
   "source": [
    "#### 42. Create a tuple from user input."
   ]
  },
  {
   "cell_type": "code",
   "execution_count": 142,
   "id": "9aa1dc70-4a65-4552-8f88-3083edd0766a",
   "metadata": {},
   "outputs": [
    {
     "name": "stdin",
     "output_type": "stream",
     "text": [
      "Enter elements separated by spaces:  hello world\n"
     ]
    },
    {
     "name": "stdout",
     "output_type": "stream",
     "text": [
      "('hello', 'world')\n"
     ]
    }
   ],
   "source": [
    "user_input = input(\"Enter elements separated by spaces: \")\n",
    "user_tuple = tuple(user_input.split())\n",
    "print(user_tuple)\n"
   ]
  },
  {
   "cell_type": "markdown",
   "id": "23b20914-f0e5-42cf-8512-a0be01e1c6c4",
   "metadata": {},
   "source": [
    "#### 43. Swap two elements in a tuple."
   ]
  },
  {
   "cell_type": "code",
   "execution_count": 143,
   "id": "121049c8-99f8-425e-8d12-25782dcf6b7f",
   "metadata": {},
   "outputs": [
    {
     "name": "stdout",
     "output_type": "stream",
     "text": [
      "(1, 4, 3, 2, 5)\n"
     ]
    }
   ],
   "source": [
    "my_tuple = (1, 2, 3, 4, 5)\n",
    "index1, index2 = 1, 3\n",
    "tuple_list = list(my_tuple)\n",
    "tuple_list[index1], tuple_list[index2] = tuple_list[index2], tuple_list[index1]\n",
    "swapped_tuple = tuple(tuple_list)\n",
    "print(swapped_tuple)\n"
   ]
  },
  {
   "cell_type": "markdown",
   "id": "7a26f778-0ef0-4a68-9e33-b07d18b23fac",
   "metadata": {},
   "source": [
    "#### 44. Reverse the elements of a tuple."
   ]
  },
  {
   "cell_type": "code",
   "execution_count": 144,
   "id": "e082321d-432b-4659-b557-f798ef6afcf7",
   "metadata": {},
   "outputs": [
    {
     "name": "stdout",
     "output_type": "stream",
     "text": [
      "(5, 4, 3, 2, 1)\n"
     ]
    }
   ],
   "source": [
    "my_tuple = (1, 2, 3, 4, 5)\n",
    "reversed_tuple = my_tuple[::-1]\n",
    "print(reversed_tuple)\n"
   ]
  },
  {
   "cell_type": "markdown",
   "id": "04e4273a-3fc6-4ea2-bdb5-8ff2e2310ea1",
   "metadata": {},
   "source": [
    "#### 45. Create a tuple of the first `n` powers of 2."
   ]
  },
  {
   "cell_type": "code",
   "execution_count": 145,
   "id": "61f1c503-0a86-4967-8705-cd287d042b7d",
   "metadata": {},
   "outputs": [
    {
     "name": "stdout",
     "output_type": "stream",
     "text": [
      "(1, 2, 4, 8, 16)\n"
     ]
    }
   ],
   "source": [
    "n = 5\n",
    "powers_of_2 = tuple(2 ** i for i in range(n))\n",
    "print(powers_of_2)\n"
   ]
  },
  {
   "cell_type": "markdown",
   "id": "a16a6a81-481a-4ec8-8920-9ff6863e5d44",
   "metadata": {},
   "source": [
    "#### 46. Find the longest string in a tuple of strings."
   ]
  },
  {
   "cell_type": "code",
   "execution_count": 146,
   "id": "a4ed5ae1-687a-4b61-a2d0-abe0d9afa607",
   "metadata": {},
   "outputs": [
    {
     "name": "stdout",
     "output_type": "stream",
     "text": [
      "banana\n"
     ]
    }
   ],
   "source": [
    "str_tuple = (\"apple\", \"banana\", \"cherry\", \"date\", \"fig\")\n",
    "longest_string = max(str_tuple, key=len)\n",
    "print(longest_string)\n"
   ]
  },
  {
   "cell_type": "markdown",
   "id": "3410b8df-6b7b-459f-b139-e474b82760ec",
   "metadata": {},
   "source": [
    "#### 47. Find the shortest string in a tuple of strings."
   ]
  },
  {
   "cell_type": "code",
   "execution_count": 147,
   "id": "029efb1d-15a8-48b3-b359-1517b326ffb9",
   "metadata": {},
   "outputs": [
    {
     "name": "stdout",
     "output_type": "stream",
     "text": [
      "fig\n"
     ]
    }
   ],
   "source": [
    "str_tuple = (\"apple\", \"banana\", \"cherry\", \"date\", \"fig\")\n",
    "shortest_string = min(str_tuple, key=len)\n",
    "print(shortest_string)\n"
   ]
  },
  {
   "cell_type": "markdown",
   "id": "38c47ff2-335a-4c6f-b482-5731a279d468",
   "metadata": {},
   "source": [
    "#### 48. Create a tuple of the first `n` triangular numbers."
   ]
  },
  {
   "cell_type": "code",
   "execution_count": 148,
   "id": "d712414d-2946-41e0-801c-65fd5d2f54d0",
   "metadata": {},
   "outputs": [
    {
     "name": "stdout",
     "output_type": "stream",
     "text": [
      "(1, 3, 6, 10, 15)\n"
     ]
    }
   ],
   "source": [
    "def generate_triangular_numbers(n):\n",
    "    triangular_numbers = [n * (n + 1) // 2 for n in range(1, n + 1)]\n",
    "    return tuple(triangular_numbers)\n",
    "\n",
    "triangular_tuple = generate_triangular_numbers(5)\n",
    "print(triangular_tuple)\n"
   ]
  },
  {
   "cell_type": "markdown",
   "id": "39ccc991-6c23-48af-8147-8c1b131c59a0",
   "metadata": {},
   "source": [
    "#### 49. Check if a tuple contains another tuple as a subsequence."
   ]
  },
  {
   "cell_type": "code",
   "execution_count": 149,
   "id": "7bd54d8c-458a-4329-a612-5cc89a67a83e",
   "metadata": {},
   "outputs": [
    {
     "name": "stdout",
     "output_type": "stream",
     "text": [
      "True\n"
     ]
    }
   ],
   "source": [
    "main_tuple = (1, 2, 3, (4, 5), 6, 7)\n",
    "sub_tuple = (4, 5)\n",
    "contains_subsequence = sub_tuple in main_tuple\n",
    "print(contains_subsequence)\n"
   ]
  },
  {
   "cell_type": "markdown",
   "id": "3adac660-b0e9-4109-a08d-76e6e4d7144d",
   "metadata": {},
   "source": [
    "#### 50. Create a tuple of alternating 1s and 0s of length `n`."
   ]
  },
  {
   "cell_type": "code",
   "execution_count": 150,
   "id": "7390d44f-670a-41ee-99d5-5c02205d25cd",
   "metadata": {},
   "outputs": [
    {
     "name": "stdout",
     "output_type": "stream",
     "text": [
      "(1, 0, 1, 0, 1, 0)\n"
     ]
    }
   ],
   "source": [
    "n = 6\n",
    "alternating_tuple = tuple(1 if i % 2 == 0 else 0 for i in range(n))\n",
    "print(alternating_tuple)\n"
   ]
  },
  {
   "cell_type": "markdown",
   "id": "47ed8dda-0cd2-4487-a60b-796dac8d4b87",
   "metadata": {},
   "source": [
    "# Set Based Practice Problem:"
   ]
  },
  {
   "cell_type": "markdown",
   "id": "96a45875-65cf-488d-984d-00a7080d53fc",
   "metadata": {},
   "source": [
    "#### 1. Create a set with integers from 1 to 5."
   ]
  },
  {
   "cell_type": "code",
   "execution_count": 151,
   "id": "9327ef1e-2089-4f0a-8ac1-46487cc02b3f",
   "metadata": {},
   "outputs": [
    {
     "data": {
      "text/plain": [
       "{1, 2, 3, 4, 5}"
      ]
     },
     "execution_count": 151,
     "metadata": {},
     "output_type": "execute_result"
    }
   ],
   "source": [
    "my_set = {1, 2, 3, 4, 5}\n",
    "my_set"
   ]
  },
  {
   "cell_type": "markdown",
   "id": "b043c7d2-835c-4659-bff0-e52b46138481",
   "metadata": {},
   "source": [
    "#### 2. Add an element to a set.\n"
   ]
  },
  {
   "cell_type": "code",
   "execution_count": 152,
   "id": "e6927f84-e01a-4e3b-ae95-e91a7152c335",
   "metadata": {},
   "outputs": [
    {
     "data": {
      "text/plain": [
       "{1, 2, 3, 4, 5, 6}"
      ]
     },
     "execution_count": 152,
     "metadata": {},
     "output_type": "execute_result"
    }
   ],
   "source": [
    "my_set.add(6)\n",
    "my_set"
   ]
  },
  {
   "cell_type": "markdown",
   "id": "82723699-f9c6-4d9c-b206-82100653be07",
   "metadata": {},
   "source": [
    "#### 3. Remove an element from a set."
   ]
  },
  {
   "cell_type": "code",
   "execution_count": 153,
   "id": "211067cd-beb0-4f3c-8e4c-46b83c4f8af3",
   "metadata": {},
   "outputs": [
    {
     "data": {
      "text/plain": [
       "{1, 2, 4, 5, 6}"
      ]
     },
     "execution_count": 153,
     "metadata": {},
     "output_type": "execute_result"
    }
   ],
   "source": [
    "my_set.remove(3)\n",
    "my_set"
   ]
  },
  {
   "cell_type": "markdown",
   "id": "1dbeca3b-a2a3-4954-b143-ad090afb5016",
   "metadata": {},
   "source": [
    "#### 4. Check if an element exists in a set."
   ]
  },
  {
   "cell_type": "code",
   "execution_count": 154,
   "id": "7680fdd4-6edb-4f3b-a4a9-2a2978a62396",
   "metadata": {},
   "outputs": [
    {
     "data": {
      "text/plain": [
       "{1, 2, 4, 5, 6}"
      ]
     },
     "execution_count": 154,
     "metadata": {},
     "output_type": "execute_result"
    }
   ],
   "source": [
    "element_exists = 4 in my_set\n",
    "my_set"
   ]
  },
  {
   "cell_type": "markdown",
   "id": "a1139088-80d2-42c3-935e-b6e89b7de845",
   "metadata": {},
   "source": [
    "#### 5. Find the length of a set without using the `len()` function."
   ]
  },
  {
   "cell_type": "code",
   "execution_count": 155,
   "id": "b327dc6b-0973-4815-92d9-5c4fb199aa69",
   "metadata": {},
   "outputs": [
    {
     "data": {
      "text/plain": [
       "{1, 2, 3, 4, 5}"
      ]
     },
     "execution_count": 155,
     "metadata": {},
     "output_type": "execute_result"
    }
   ],
   "source": [
    "my_set = {1, 2, 3, 4, 5}\n",
    "set_length = sum(1 for _ in my_set)\n",
    "my_set"
   ]
  },
  {
   "cell_type": "markdown",
   "id": "1ba6687e-63ea-45cb-9905-40e70ede20d9",
   "metadata": {},
   "source": [
    "#### 6. Clear all elements from a set."
   ]
  },
  {
   "cell_type": "code",
   "execution_count": 156,
   "id": "f4db6b6d-c610-4c74-8049-43c9774f74b3",
   "metadata": {},
   "outputs": [
    {
     "data": {
      "text/plain": [
       "set()"
      ]
     },
     "execution_count": 156,
     "metadata": {},
     "output_type": "execute_result"
    }
   ],
   "source": [
    "my_set.clear()\n",
    "my_set"
   ]
  },
  {
   "cell_type": "markdown",
   "id": "eec9c6e9-eee3-438d-8efe-629253884390",
   "metadata": {},
   "source": [
    "#### 7. Create a set of even numbers from 1 to 10.\n"
   ]
  },
  {
   "cell_type": "code",
   "execution_count": 157,
   "id": "69c71bf5-5cd6-435c-83e2-53b3f533a67b",
   "metadata": {},
   "outputs": [
    {
     "data": {
      "text/plain": [
       "{2, 4, 6, 8, 10}"
      ]
     },
     "execution_count": 157,
     "metadata": {},
     "output_type": "execute_result"
    }
   ],
   "source": [
    "even_set = set(range(2, 11, 2))\n",
    "even_set"
   ]
  },
  {
   "cell_type": "markdown",
   "id": "b0f3855b-d2b1-4265-bbc7-af5f1a62c4cf",
   "metadata": {},
   "source": [
    "#### 8. Create a set of odd numbers from 1 to 10."
   ]
  },
  {
   "cell_type": "code",
   "execution_count": 158,
   "id": "931bbac8-8b36-4576-b3c0-846944b65084",
   "metadata": {},
   "outputs": [
    {
     "data": {
      "text/plain": [
       "{1, 3, 5, 7, 9}"
      ]
     },
     "execution_count": 158,
     "metadata": {},
     "output_type": "execute_result"
    }
   ],
   "source": [
    "odd_set = set(range(1, 11, 2))\n",
    "odd_set"
   ]
  },
  {
   "cell_type": "markdown",
   "id": "8d673e7f-31d3-4a0b-ad86-6f1ca5c73a5d",
   "metadata": {},
   "source": [
    "#### 9. Find the union of two sets."
   ]
  },
  {
   "cell_type": "code",
   "execution_count": 159,
   "id": "856104b5-55a7-4cfc-9b25-ffa8ac17da50",
   "metadata": {},
   "outputs": [
    {
     "data": {
      "text/plain": [
       "{1, 2, 3, 4, 5}"
      ]
     },
     "execution_count": 159,
     "metadata": {},
     "output_type": "execute_result"
    }
   ],
   "source": [
    "set1 = {1, 2, 3}\n",
    "set2 = {3, 4, 5}\n",
    "union_set = set1.union(set2)\n",
    "union_set"
   ]
  },
  {
   "cell_type": "markdown",
   "id": "7e01dfc6-a022-4138-82b5-046fe5044506",
   "metadata": {},
   "source": [
    "#### 10. Find the intersection of two sets."
   ]
  },
  {
   "cell_type": "code",
   "execution_count": 160,
   "id": "15b01ba5-996b-4d16-a917-bebceed1aaf3",
   "metadata": {},
   "outputs": [
    {
     "data": {
      "text/plain": [
       "{3}"
      ]
     },
     "execution_count": 160,
     "metadata": {},
     "output_type": "execute_result"
    }
   ],
   "source": [
    "set1 = {1, 2, 3}\n",
    "set2 = {3, 4, 5}\n",
    "intersection_set = set1.intersection(set2)\n",
    "intersection_set"
   ]
  },
  {
   "cell_type": "markdown",
   "id": "cb230660-554a-49bd-9b76-98846e06f9a6",
   "metadata": {},
   "source": [
    "#### 11. Find the difference between two sets.\n"
   ]
  },
  {
   "cell_type": "code",
   "execution_count": 161,
   "id": "397741a5-417e-4a09-b67b-c83e8d06b5c6",
   "metadata": {},
   "outputs": [
    {
     "data": {
      "text/plain": [
       "{1, 2}"
      ]
     },
     "execution_count": 161,
     "metadata": {},
     "output_type": "execute_result"
    }
   ],
   "source": [
    "set1 = {1, 2, 3}\n",
    "set2 = {3, 4, 5}\n",
    "difference_set = set1 - set2\n",
    "difference_set"
   ]
  },
  {
   "cell_type": "markdown",
   "id": "4520d288-33fb-4b20-a8d7-127926a4eb71",
   "metadata": {},
   "source": [
    "#### 12. Check if a set is a subset of another set."
   ]
  },
  {
   "cell_type": "code",
   "execution_count": 162,
   "id": "4b487309-e5a9-43aa-a21f-2dcfcc52de31",
   "metadata": {},
   "outputs": [
    {
     "data": {
      "text/plain": [
       "False"
      ]
     },
     "execution_count": 162,
     "metadata": {},
     "output_type": "execute_result"
    }
   ],
   "source": [
    "set1 = {1, 2, 3}\n",
    "set2 = {2, 3}\n",
    "is_subset = set1.issubset(set2)\n",
    "is_subset"
   ]
  },
  {
   "cell_type": "markdown",
   "id": "49e127f6-8a09-4f1a-aea8-5eea9e73ac53",
   "metadata": {},
   "source": [
    "#### 13. Check if a set is a superset of another set."
   ]
  },
  {
   "cell_type": "code",
   "execution_count": 163,
   "id": "f468fca2-7c56-45db-912d-09d0e5e0c26b",
   "metadata": {},
   "outputs": [
    {
     "data": {
      "text/plain": [
       "True"
      ]
     },
     "execution_count": 163,
     "metadata": {},
     "output_type": "execute_result"
    }
   ],
   "source": [
    "set1 = {1, 2, 3}\n",
    "set2 = {2, 3}\n",
    "is_superset = set1.issuperset(set2)\n",
    "is_superset"
   ]
  },
  {
   "cell_type": "markdown",
   "id": "c27c8ee0-7ef0-416b-a460-572c329bf07d",
   "metadata": {},
   "source": [
    "#### 14. Create a set from a list."
   ]
  },
  {
   "cell_type": "code",
   "execution_count": 164,
   "id": "38b87836-f599-4235-8c22-d07d0692933f",
   "metadata": {},
   "outputs": [
    {
     "data": {
      "text/plain": [
       "[1, 2, 3, 4, 5]"
      ]
     },
     "execution_count": 164,
     "metadata": {},
     "output_type": "execute_result"
    }
   ],
   "source": [
    "my_list = [1, 2, 3, 4, 5]\n",
    "set_from_list = set(my_list)\n",
    "my_list"
   ]
  },
  {
   "cell_type": "markdown",
   "id": "80d3ed10-df65-48a3-9c7d-b913dc4f70bd",
   "metadata": {},
   "source": [
    "#### 15. Convert a set to a list."
   ]
  },
  {
   "cell_type": "code",
   "execution_count": 165,
   "id": "48197f1c-c04b-4ef1-b8c5-b8777e783316",
   "metadata": {},
   "outputs": [
    {
     "data": {
      "text/plain": [
       "{1, 2, 3, 4, 5}"
      ]
     },
     "execution_count": 165,
     "metadata": {},
     "output_type": "execute_result"
    }
   ],
   "source": [
    "my_set = {1, 2, 3, 4, 5}\n",
    "my_list = list(my_set)\n",
    "my_set"
   ]
  },
  {
   "cell_type": "markdown",
   "id": "14e559cb-e7f3-4937-907a-c12c0f79b862",
   "metadata": {},
   "source": [
    "#### 16. Remove a random element from a set."
   ]
  },
  {
   "cell_type": "code",
   "execution_count": 166,
   "id": "63636d6e-5ff8-4a7e-8e55-48824ffbbcc4",
   "metadata": {},
   "outputs": [
    {
     "data": {
      "text/plain": [
       "{2, 3, 4, 5}"
      ]
     },
     "execution_count": 166,
     "metadata": {},
     "output_type": "execute_result"
    }
   ],
   "source": [
    "import random\n",
    "\n",
    "my_set = {1, 2, 3, 4, 5}\n",
    "random_element = random.choice(list(my_set))\n",
    "my_set.remove(random_element)\n",
    "my_set"
   ]
  },
  {
   "cell_type": "markdown",
   "id": "98fd5a9e-1d96-4781-82e2-83ab6d75d0b2",
   "metadata": {},
   "source": [
    "#### 17. Pop an element from a set."
   ]
  },
  {
   "cell_type": "code",
   "execution_count": 167,
   "id": "1d5ed3c7-fa40-4f81-a851-2fe6af49d68a",
   "metadata": {},
   "outputs": [
    {
     "data": {
      "text/plain": [
       "1"
      ]
     },
     "execution_count": 167,
     "metadata": {},
     "output_type": "execute_result"
    }
   ],
   "source": [
    "my_set = {1, 2, 3, 4, 5}\n",
    "popped_element = my_set.pop()\n",
    "popped_element"
   ]
  },
  {
   "cell_type": "markdown",
   "id": "867579e6-0963-4937-9b54-5af47e2197ea",
   "metadata": {},
   "source": [
    "#### 18. Check if two sets have no elements in common."
   ]
  },
  {
   "cell_type": "code",
   "execution_count": 168,
   "id": "4b02e47e-baf4-4fa3-a729-5e659270a791",
   "metadata": {},
   "outputs": [
    {
     "data": {
      "text/plain": [
       "True"
      ]
     },
     "execution_count": 168,
     "metadata": {},
     "output_type": "execute_result"
    }
   ],
   "source": [
    "set1 = {1, 2, 3}\n",
    "set2 = {4, 5, 6}\n",
    "have_no_common_elements = not bool(set1 & set2)\n",
    "have_no_common_elements"
   ]
  },
  {
   "cell_type": "markdown",
   "id": "a789690c-3ad8-4945-aacd-bc6637ec7e8c",
   "metadata": {},
   "source": [
    "#### 19. Find the symmetric difference between two sets."
   ]
  },
  {
   "cell_type": "code",
   "execution_count": 169,
   "id": "96ed7879-b199-472e-8ee7-938bc0a60fc9",
   "metadata": {},
   "outputs": [
    {
     "data": {
      "text/plain": [
       "{1, 2, 4, 5}"
      ]
     },
     "execution_count": 169,
     "metadata": {},
     "output_type": "execute_result"
    }
   ],
   "source": [
    "set1 = {1, 2, 3}\n",
    "set2 = {3, 4, 5}\n",
    "symmetric_difference = set1.symmetric_difference(set2)\n",
    "symmetric_difference"
   ]
  },
  {
   "cell_type": "markdown",
   "id": "098b4c02-9dbd-4082-8d63-f17426849208",
   "metadata": {},
   "source": [
    "#### 20. Update a set with elements from another set."
   ]
  },
  {
   "cell_type": "code",
   "execution_count": 170,
   "id": "bd52a728-031b-4fa4-8c65-508753e452d4",
   "metadata": {},
   "outputs": [
    {
     "data": {
      "text/plain": [
       "{1, 2, 3, 4, 5}"
      ]
     },
     "execution_count": 170,
     "metadata": {},
     "output_type": "execute_result"
    }
   ],
   "source": [
    "set1 = {1, 2, 3}\n",
    "set2 = {3, 4, 5}\n",
    "set1.update(set2)\n",
    "set1"
   ]
  },
  {
   "cell_type": "markdown",
   "id": "b7b09c26-bd37-41ad-abbd-6f822a7f1f56",
   "metadata": {},
   "source": [
    "#### 21. Create a set of the first 5 prime numbers."
   ]
  },
  {
   "cell_type": "code",
   "execution_count": 171,
   "id": "de4d3976-b724-49c1-a69e-a442baacbb95",
   "metadata": {},
   "outputs": [
    {
     "name": "stdout",
     "output_type": "stream",
     "text": [
      "{2, 3, 5, 7, 11}\n"
     ]
    }
   ],
   "source": [
    "def is_prime(num):\n",
    "    if num < 2:\n",
    "        return False\n",
    "    for i in range(2, int(num**0.5) + 1):\n",
    "        if num % i == 0:\n",
    "            return False\n",
    "    return True\n",
    "\n",
    "prime_numbers = set()\n",
    "num = 2\n",
    "while len(prime_numbers) < 5:\n",
    "    if is_prime(num):\n",
    "        prime_numbers.add(num)\n",
    "    num += 1\n",
    "\n",
    "print(prime_numbers)\n"
   ]
  },
  {
   "cell_type": "markdown",
   "id": "73cd2ea2-de6c-4d8f-bf36-cb227c8a421b",
   "metadata": {},
   "source": [
    "#### 22. Check if two sets are identical."
   ]
  },
  {
   "cell_type": "code",
   "execution_count": 172,
   "id": "125f7f3d-3dbc-4a03-a1c1-44a7b7a3556f",
   "metadata": {},
   "outputs": [
    {
     "data": {
      "text/plain": [
       "True"
      ]
     },
     "execution_count": 172,
     "metadata": {},
     "output_type": "execute_result"
    }
   ],
   "source": [
    "set1 = {1, 2, 3}\n",
    "set2 = {3, 2, 1}\n",
    "are_identical = set1 == set2\n",
    "are_identical"
   ]
  },
  {
   "cell_type": "markdown",
   "id": "0a58d5cb-aec7-4023-8ca5-cf4266bc2f96",
   "metadata": {},
   "source": [
    "#### 23. Create a frozen set."
   ]
  },
  {
   "cell_type": "code",
   "execution_count": 173,
   "id": "82153030-a116-4cfc-99cb-c5d38b5beb80",
   "metadata": {},
   "outputs": [
    {
     "data": {
      "text/plain": [
       "frozenset({1, 2, 3, 4, 5})"
      ]
     },
     "execution_count": 173,
     "metadata": {},
     "output_type": "execute_result"
    }
   ],
   "source": [
    "frozen_set = frozenset([1, 2, 3, 4, 5])\n",
    "frozen_set"
   ]
  },
  {
   "cell_type": "markdown",
   "id": "ac301617-5c56-4337-992e-61c59b950477",
   "metadata": {},
   "source": [
    "#### 24. Check if a set is disjoint with another set."
   ]
  },
  {
   "cell_type": "code",
   "execution_count": 174,
   "id": "060866f4-d1d5-48e6-a0bc-88531a142afb",
   "metadata": {},
   "outputs": [
    {
     "data": {
      "text/plain": [
       "True"
      ]
     },
     "execution_count": 174,
     "metadata": {},
     "output_type": "execute_result"
    }
   ],
   "source": [
    "set1 = {1, 2, 3}\n",
    "set2 = {4, 5, 6}\n",
    "are_disjoint = set1.isdisjoint(set2)\n",
    "are_disjoint"
   ]
  },
  {
   "cell_type": "markdown",
   "id": "56fc1c09-3445-424d-a6e9-6b86a38811a8",
   "metadata": {},
   "source": [
    "#### 25. Create a set of squares of numbers from 1 to 5."
   ]
  },
  {
   "cell_type": "code",
   "execution_count": 175,
   "id": "0d5f368a-916e-4540-bbce-361638b69679",
   "metadata": {},
   "outputs": [
    {
     "data": {
      "text/plain": [
       "{1, 4, 9, 16, 25}"
      ]
     },
     "execution_count": 175,
     "metadata": {},
     "output_type": "execute_result"
    }
   ],
   "source": [
    "squares_set = {x ** 2 for x in range(1, 6)}\n",
    "squares_set"
   ]
  },
  {
   "cell_type": "markdown",
   "id": "0a6b99b0-fca7-4a04-bf46-fc762709d924",
   "metadata": {},
   "source": [
    "#### 26. Filter out all even numbers from a set."
   ]
  },
  {
   "cell_type": "code",
   "execution_count": 176,
   "id": "22f79d1d-8ced-43d7-9af6-d6362baddb6f",
   "metadata": {},
   "outputs": [
    {
     "data": {
      "text/plain": [
       "{1, 3, 5}"
      ]
     },
     "execution_count": 176,
     "metadata": {},
     "output_type": "execute_result"
    }
   ],
   "source": [
    "my_set = {1, 2, 3, 4, 5}\n",
    "filtered_set = {x for x in my_set if x % 2 != 0}\n",
    "filtered_set"
   ]
  },
  {
   "cell_type": "markdown",
   "id": "56f37e1f-fe0d-4c90-a1ea-ce6aecc3d719",
   "metadata": {},
   "source": [
    "#### 27. Multiply all elements in a set by 2."
   ]
  },
  {
   "cell_type": "code",
   "execution_count": 177,
   "id": "a175fdec-4c54-485e-b223-42d17fe19fbc",
   "metadata": {},
   "outputs": [
    {
     "data": {
      "text/plain": [
       "{2, 4, 6, 8, 10}"
      ]
     },
     "execution_count": 177,
     "metadata": {},
     "output_type": "execute_result"
    }
   ],
   "source": [
    "my_set = {1, 2, 3, 4, 5}\n",
    "multiplied_set = {x * 2 for x in my_set}\n",
    "multiplied_set"
   ]
  },
  {
   "cell_type": "markdown",
   "id": "333697c6-71fa-43f4-842a-3c74b8719f18",
   "metadata": {},
   "source": [
    "#### 28. Create a set of random numbers."
   ]
  },
  {
   "cell_type": "code",
   "execution_count": 178,
   "id": "d227d22f-b3d0-456b-b000-bb63ed185069",
   "metadata": {},
   "outputs": [
    {
     "data": {
      "text/plain": [
       "{30, 35, 48, 76, 94}"
      ]
     },
     "execution_count": 178,
     "metadata": {},
     "output_type": "execute_result"
    }
   ],
   "source": [
    "import random\n",
    "\n",
    "random_set = {random.randint(1, 100) for _ in range(5)}\n",
    "random_set"
   ]
  },
  {
   "cell_type": "markdown",
   "id": "8ed1d4a9-6250-4b47-bdae-a8f24cef7848",
   "metadata": {},
   "source": [
    "#### 29. Check if a set is empty."
   ]
  },
  {
   "cell_type": "code",
   "execution_count": 179,
   "id": "99315564-db48-4a49-8e09-bc25aabc91e6",
   "metadata": {},
   "outputs": [
    {
     "data": {
      "text/plain": [
       "True"
      ]
     },
     "execution_count": 179,
     "metadata": {},
     "output_type": "execute_result"
    }
   ],
   "source": [
    "my_set = set()\n",
    "is_empty = not bool(my_set)\n",
    "is_empty"
   ]
  },
  {
   "cell_type": "markdown",
   "id": "9b1c365c-b7de-469d-8d9f-9da768dc49c0",
   "metadata": {},
   "source": [
    "#### 30. Create a nested set (hint: use frozenset)."
   ]
  },
  {
   "cell_type": "code",
   "execution_count": 180,
   "id": "78cfad76-dde4-43d9-a240-b5d17c8f62fa",
   "metadata": {},
   "outputs": [
    {
     "data": {
      "text/plain": [
       "{frozenset({3, 4}), frozenset({1, 2})}"
      ]
     },
     "execution_count": 180,
     "metadata": {},
     "output_type": "execute_result"
    }
   ],
   "source": [
    "nested_set = {frozenset({1, 2}), frozenset({3, 4})}\n",
    "nested_set"
   ]
  },
  {
   "cell_type": "markdown",
   "id": "4ba8d542-de9e-49f3-a943-b73ecbb8a9dc",
   "metadata": {},
   "source": [
    "#### 31. Remove an element from a set using the discard method."
   ]
  },
  {
   "cell_type": "code",
   "execution_count": 181,
   "id": "fd0384ce-3439-475f-97b1-6464dc97c6ab",
   "metadata": {},
   "outputs": [
    {
     "data": {
      "text/plain": [
       "{1, 2, 4, 5}"
      ]
     },
     "execution_count": 181,
     "metadata": {},
     "output_type": "execute_result"
    }
   ],
   "source": [
    "my_set = {1, 2, 3, 4, 5}\n",
    "my_set.discard(3)\n",
    "my_set"
   ]
  },
  {
   "cell_type": "markdown",
   "id": "f3ea4933-c552-4dfd-ac4a-b283ceb9f73f",
   "metadata": {},
   "source": [
    "#### 32. Compare two sets."
   ]
  },
  {
   "cell_type": "code",
   "execution_count": 182,
   "id": "59b9ed27-ace8-465e-80e4-c1541330e91f",
   "metadata": {},
   "outputs": [
    {
     "data": {
      "text/plain": [
       "True"
      ]
     },
     "execution_count": 182,
     "metadata": {},
     "output_type": "execute_result"
    }
   ],
   "source": [
    "set1 = {1, 2, 3}\n",
    "set2 = {3, 2, 1}\n",
    "are_equal = set1 == set2\n",
    "are_equal"
   ]
  },
  {
   "cell_type": "markdown",
   "id": "a9e22adf-5d56-4671-9ff0-042b93c05e97",
   "metadata": {},
   "source": [
    "#### 33. Create a set from a string.\n"
   ]
  },
  {
   "cell_type": "code",
   "execution_count": 183,
   "id": "1c6188ae-5162-4c97-be72-b424994c617b",
   "metadata": {},
   "outputs": [
    {
     "data": {
      "text/plain": [
       "{'e', 'h', 'l', 'o'}"
      ]
     },
     "execution_count": 183,
     "metadata": {},
     "output_type": "execute_result"
    }
   ],
   "source": [
    "my_string = \"hello\"\n",
    "string_set = set(my_string)\n",
    "string_set"
   ]
  },
  {
   "cell_type": "markdown",
   "id": "76456aff-18fa-40ba-8bf3-b61b39ee61d2",
   "metadata": {},
   "source": [
    "#### 34. Convert a set of strings to a set of integers.\n"
   ]
  },
  {
   "cell_type": "code",
   "execution_count": 184,
   "id": "bdc29ef2-bc68-4199-a318-865430d79c38",
   "metadata": {},
   "outputs": [
    {
     "data": {
      "text/plain": [
       "{1, 2, 3}"
      ]
     },
     "execution_count": 184,
     "metadata": {},
     "output_type": "execute_result"
    }
   ],
   "source": [
    "string_set = {\"1\", \"2\", \"3\"}\n",
    "int_set = set(map(int, string_set))\n",
    "int_set"
   ]
  },
  {
   "cell_type": "markdown",
   "id": "e3d9b5c3-2821-47a8-9a1a-cac3dc7b26ab",
   "metadata": {},
   "source": [
    "#### 35. Convert a set of integers to a set of strings."
   ]
  },
  {
   "cell_type": "code",
   "execution_count": 185,
   "id": "ea490173-3241-4db9-aa9d-3fbdfd02795b",
   "metadata": {},
   "outputs": [
    {
     "data": {
      "text/plain": [
       "{'1', '2', '3'}"
      ]
     },
     "execution_count": 185,
     "metadata": {},
     "output_type": "execute_result"
    }
   ],
   "source": [
    "int_set = {1, 2, 3}\n",
    "string_set = set(map(str, int_set))\n",
    "string_set"
   ]
  },
  {
   "cell_type": "markdown",
   "id": "48fee5c8-a9e0-40af-af8b-49f1c892a828",
   "metadata": {},
   "source": [
    "#### 36. Create a set from a tuple."
   ]
  },
  {
   "cell_type": "code",
   "execution_count": 186,
   "id": "ed73cc93-8fee-433f-8148-f7c53b9a77da",
   "metadata": {},
   "outputs": [
    {
     "data": {
      "text/plain": [
       "{1, 2, 3, 4, 5}"
      ]
     },
     "execution_count": 186,
     "metadata": {},
     "output_type": "execute_result"
    }
   ],
   "source": [
    "my_tuple = (1, 2, 3, 4, 5)\n",
    "tuple_set = set(my_tuple)\n",
    "tuple_set"
   ]
  },
  {
   "cell_type": "markdown",
   "id": "f58af09a-5d86-4328-8a78-7766b469ea6d",
   "metadata": {},
   "source": [
    "#### 37. Convert a set to a tuple.\n"
   ]
  },
  {
   "cell_type": "code",
   "execution_count": 187,
   "id": "8a267121-2d03-40cf-a5d6-c29d5c6c919c",
   "metadata": {},
   "outputs": [
    {
     "data": {
      "text/plain": [
       "(1, 2, 3, 4, 5)"
      ]
     },
     "execution_count": 187,
     "metadata": {},
     "output_type": "execute_result"
    }
   ],
   "source": [
    "my_set = {1, 2, 3, 4, 5}\n",
    "set_tuple = tuple(my_set)\n",
    "set_tuple"
   ]
  },
  {
   "cell_type": "markdown",
   "id": "370e602a-34c2-4ad5-bcfd-4522de05f60e",
   "metadata": {},
   "source": [
    "#### 38. Find the maximum value in a set."
   ]
  },
  {
   "cell_type": "code",
   "execution_count": 188,
   "id": "b323d7cb-880c-4b30-bcf8-4f4aba10b5fc",
   "metadata": {},
   "outputs": [
    {
     "data": {
      "text/plain": [
       "8"
      ]
     },
     "execution_count": 188,
     "metadata": {},
     "output_type": "execute_result"
    }
   ],
   "source": [
    "my_set = {5, 2, 8, 1, 3}\n",
    "max_value = max(my_set)\n",
    "max_value"
   ]
  },
  {
   "cell_type": "markdown",
   "id": "e6c6a9fe-13bc-4e3f-adf7-4310d02d312d",
   "metadata": {},
   "source": [
    "#### 39. Find the minimum value in a set."
   ]
  },
  {
   "cell_type": "code",
   "execution_count": 189,
   "id": "0ca5e4fd-b02c-4a7e-9237-e76d257261e5",
   "metadata": {},
   "outputs": [
    {
     "data": {
      "text/plain": [
       "1"
      ]
     },
     "execution_count": 189,
     "metadata": {},
     "output_type": "execute_result"
    }
   ],
   "source": [
    "my_set = {5, 2, 8, 1, 3}\n",
    "min_value = min(my_set)\n",
    "min_value"
   ]
  },
  {
   "cell_type": "markdown",
   "id": "dc4deacd-13d1-4e7c-96dc-bdab365c1bfd",
   "metadata": {},
   "source": [
    "#### 40. Create a set from user input"
   ]
  },
  {
   "cell_type": "code",
   "execution_count": 190,
   "id": "faf6a4fe-3699-4d0f-b35e-7ab5c1f92a6f",
   "metadata": {},
   "outputs": [
    {
     "name": "stdin",
     "output_type": "stream",
     "text": [
      "Enter elements separated by spaces:  hello world\n"
     ]
    },
    {
     "data": {
      "text/plain": [
       "{'hello', 'world'}"
      ]
     },
     "execution_count": 190,
     "metadata": {},
     "output_type": "execute_result"
    }
   ],
   "source": [
    "user_input = input(\"Enter elements separated by spaces: \")\n",
    "user_set = set(user_input.split())\n",
    "user_set"
   ]
  },
  {
   "cell_type": "markdown",
   "id": "01fad862-6f91-4fe6-8455-0d9fbe658c7a",
   "metadata": {},
   "source": [
    "#### 41. Check if the intersection of two sets is empty.\n"
   ]
  },
  {
   "cell_type": "code",
   "execution_count": 191,
   "id": "c1134167-dc14-46fc-ba1c-2cf8b68548ba",
   "metadata": {},
   "outputs": [
    {
     "data": {
      "text/plain": [
       "True"
      ]
     },
     "execution_count": 191,
     "metadata": {},
     "output_type": "execute_result"
    }
   ],
   "source": [
    "set1 = {1, 2, 3}\n",
    "set2 = {4, 5, 6}\n",
    "intersection_empty = not bool(set1 & set2)\n",
    "intersection_empty"
   ]
  },
  {
   "cell_type": "markdown",
   "id": "e5fc0b43-aadd-442a-bf72-1295b2cd60e5",
   "metadata": {},
   "source": [
    "#### 42. Create a set of the first 5 Fibonacci numbers."
   ]
  },
  {
   "cell_type": "code",
   "execution_count": 192,
   "id": "25e4bd8b-26bf-49da-bada-de36ffa303c3",
   "metadata": {},
   "outputs": [
    {
     "name": "stdout",
     "output_type": "stream",
     "text": [
      "{0, 1, 2, 3}\n"
     ]
    }
   ],
   "source": [
    "def fibonacci(n):\n",
    "    if n == 0:\n",
    "        return 0\n",
    "    elif n == 1:\n",
    "        return 1\n",
    "    else:\n",
    "        return fibonacci(n - 1) + fibonacci(n - 2)\n",
    "\n",
    "\n",
    "def main():\n",
    "    fibonacci_numbers = set()\n",
    "    for i in range(5):\n",
    "        fibonacci_numbers.add(fibonacci(i))\n",
    "\n",
    "    print(fibonacci_numbers)\n",
    "\n",
    "\n",
    "if __name__ == \"__main__\":\n",
    "    main()\n"
   ]
  },
  {
   "cell_type": "markdown",
   "id": "56590b61-50ab-44ce-9b5f-0b7cc2894e5d",
   "metadata": {},
   "source": [
    "#### 43. Remove duplicates from a list using sets."
   ]
  },
  {
   "cell_type": "code",
   "execution_count": 193,
   "id": "12280ba5-d6a8-4b1d-90ee-e39d9d68fae9",
   "metadata": {},
   "outputs": [
    {
     "data": {
      "text/plain": [
       "[1, 2, 3, 4, 5]"
      ]
     },
     "execution_count": 193,
     "metadata": {},
     "output_type": "execute_result"
    }
   ],
   "source": [
    "my_list = [1, 2, 2, 3, 4, 4, 5]\n",
    "unique_list = list(set(my_list))\n",
    "unique_list"
   ]
  },
  {
   "cell_type": "markdown",
   "id": "729a7a3c-24e8-4092-8ae4-8cdce91e90fe",
   "metadata": {},
   "source": [
    "#### 44. Check if two sets have the same elements, regardless of their count."
   ]
  },
  {
   "cell_type": "code",
   "execution_count": 194,
   "id": "a455dad3-40b8-4fcb-90d0-768b08eab565",
   "metadata": {},
   "outputs": [
    {
     "data": {
      "text/plain": [
       "True"
      ]
     },
     "execution_count": 194,
     "metadata": {},
     "output_type": "execute_result"
    }
   ],
   "source": [
    "set1 = {1, 2, 3, 4, 5}\n",
    "set2 = {5, 4, 3, 2, 1, 1, 2, 3, 4, 5}\n",
    "have_same_elements = set1 == set2\n",
    "have_same_elements"
   ]
  },
  {
   "cell_type": "markdown",
   "id": "ba604ae8-dee2-4eaa-8a8f-b12979a30e04",
   "metadata": {},
   "source": [
    "#### 45. Create a set of the first `n` powers of 2."
   ]
  },
  {
   "cell_type": "code",
   "execution_count": 195,
   "id": "f3cff10e-25fd-4c7e-9702-8a5a70cca4d6",
   "metadata": {},
   "outputs": [
    {
     "data": {
      "text/plain": [
       "{1, 2, 4, 8, 16}"
      ]
     },
     "execution_count": 195,
     "metadata": {},
     "output_type": "execute_result"
    }
   ],
   "source": [
    "n = 5\n",
    "powers_of_2 = {2 ** i for i in range(n)}\n",
    "powers_of_2"
   ]
  },
  {
   "cell_type": "markdown",
   "id": "5240c585-2cf7-4c24-915a-91ee002080c9",
   "metadata": {},
   "source": [
    "#### 46. Find the common elements between a set and a list."
   ]
  },
  {
   "cell_type": "code",
   "execution_count": 196,
   "id": "92f52709-feba-48af-ab04-831831e385b8",
   "metadata": {},
   "outputs": [
    {
     "data": {
      "text/plain": [
       "{3, 4, 5}"
      ]
     },
     "execution_count": 196,
     "metadata": {},
     "output_type": "execute_result"
    }
   ],
   "source": [
    "my_set = {1, 2, 3, 4, 5}\n",
    "my_list = [3, 4, 5, 6, 7]\n",
    "common_elements = my_set.intersection(my_list)\n",
    "common_elements"
   ]
  },
  {
   "cell_type": "markdown",
   "id": "178a30b3-cea3-4a6a-b920-99638e6e98ba",
   "metadata": {},
   "source": [
    "#### 47. Create a set of the first `n` triangular numbers."
   ]
  },
  {
   "cell_type": "code",
   "execution_count": 197,
   "id": "23c71198-1a05-42df-b7ca-0c3593357304",
   "metadata": {},
   "outputs": [
    {
     "data": {
      "text/plain": [
       "{1, 3, 6, 10, 15}"
      ]
     },
     "execution_count": 197,
     "metadata": {},
     "output_type": "execute_result"
    }
   ],
   "source": [
    "def generate_triangular_numbers(n):\n",
    "    triangular_numbers = {n * (n + 1) // 2 for n in range(1, n + 1)}\n",
    "    return triangular_numbers\n",
    "\n",
    "triangular_set = generate_triangular_numbers(5)\n",
    "triangular_set"
   ]
  },
  {
   "cell_type": "markdown",
   "id": "446108ef-92a3-40b4-b1d4-121856c92033",
   "metadata": {},
   "source": [
    "#### 48. Check if a set contains another set as a subset."
   ]
  },
  {
   "cell_type": "code",
   "execution_count": 198,
   "id": "f69023de-abe6-4d8a-aa57-31ea1b5cdc70",
   "metadata": {},
   "outputs": [
    {
     "data": {
      "text/plain": [
       "True"
      ]
     },
     "execution_count": 198,
     "metadata": {},
     "output_type": "execute_result"
    }
   ],
   "source": [
    "set1 = {1, 2, 3, 4, 5}\n",
    "set2 = {2, 3}\n",
    "is_subset = set2.issubset(set1)\n",
    "is_subset"
   ]
  },
  {
   "cell_type": "markdown",
   "id": "8a6666c3-d0b9-485f-8242-4ba5e0c2ef0e",
   "metadata": {},
   "source": [
    "#### 49. Create a set of alternating 1s and 0s of length `n`."
   ]
  },
  {
   "cell_type": "code",
   "execution_count": 199,
   "id": "5a89906f-24f7-4be4-9f74-331563854e31",
   "metadata": {},
   "outputs": [
    {
     "data": {
      "text/plain": [
       "{0, 1}"
      ]
     },
     "execution_count": 199,
     "metadata": {},
     "output_type": "execute_result"
    }
   ],
   "source": [
    "n = 6\n",
    "alternating_set = {1 if i % 2 == 0 else 0 for i in range(n)}\n",
    "alternating_set"
   ]
  },
  {
   "cell_type": "markdown",
   "id": "d340b10e-0c44-486f-8143-6edc09198951",
   "metadata": {},
   "source": [
    "#### 50. Merge multiple sets into one."
   ]
  },
  {
   "cell_type": "code",
   "execution_count": 200,
   "id": "38e5bb68-c040-4d4c-9410-e19642773031",
   "metadata": {},
   "outputs": [
    {
     "data": {
      "text/plain": [
       "{1, 2, 3, 4, 5, 6, 7}"
      ]
     },
     "execution_count": 200,
     "metadata": {},
     "output_type": "execute_result"
    }
   ],
   "source": [
    "set1 = {1, 2, 3}\n",
    "set2 = {3, 4, 5}\n",
    "set3 = {5, 6, 7}\n",
    "merged_set = set1.union(set2, set3)\n",
    "merged_set"
   ]
  },
  {
   "cell_type": "code",
   "execution_count": null,
   "id": "e9851cdc-f775-41b2-a36b-1c87e477615a",
   "metadata": {},
   "outputs": [],
   "source": []
  }
 ],
 "metadata": {
  "kernelspec": {
   "display_name": "Python 3 (ipykernel)",
   "language": "python",
   "name": "python3"
  },
  "language_info": {
   "codemirror_mode": {
    "name": "ipython",
    "version": 3
   },
   "file_extension": ".py",
   "mimetype": "text/x-python",
   "name": "python",
   "nbconvert_exporter": "python",
   "pygments_lexer": "ipython3",
   "version": "3.10.8"
  }
 },
 "nbformat": 4,
 "nbformat_minor": 5
}
